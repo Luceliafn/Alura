{
  "nbformat": 4,
  "nbformat_minor": 0,
  "metadata": {
    "colab": {
      "name": "ClassificacaoSKLearn.ipynb",
      "provenance": [],
      "authorship_tag": "ABX9TyN/H+qXurya4tT8GJIvOEBk",
      "include_colab_link": true
    },
    "kernelspec": {
      "name": "python3",
      "display_name": "Python 3"
    }
  },
  "cells": [
    {
      "cell_type": "markdown",
      "metadata": {
        "id": "view-in-github",
        "colab_type": "text"
      },
      "source": [
        "<a href=\"https://colab.research.google.com/github/Luceliafn/Alura/blob/Machine-Learning-Introdu%C3%A7%C3%A3o-a-classifica%C3%A7%C3%A3o-com-SKLearn/ClassificacaoSKLearn.ipynb\" target=\"_parent\"><img src=\"https://colab.research.google.com/assets/colab-badge.svg\" alt=\"Open In Colab\"/></a>"
      ]
    },
    {
      "cell_type": "markdown",
      "metadata": {
        "id": "P3OxGEpsp_UA"
      },
      "source": [
        "#Machine Learning Introdução a classificação com SKLearn\n",
        "https://github.com/alura-cursos/machine-learning-introducao-a-classificacao-com-sklearn"
      ]
    },
    {
      "cell_type": "markdown",
      "metadata": {
        "id": "KOMqOHoVts_1"
      },
      "source": [
        "**Módulo 1 - Introduçao a classificação**"
      ]
    },
    {
      "cell_type": "markdown",
      "metadata": {
        "id": "12t7rXUGqJEX"
      },
      "source": [
        "**features (1 sim, 0 não)**\n",
        "\n",
        "* pelo longo?\n",
        "* perna curta?\n",
        "* faz auau?"
      ]
    },
    {
      "cell_type": "code",
      "metadata": {
        "id": "ebaqtoysqG0o"
      },
      "source": [
        "porco1 = [0, 1, 0]\n",
        "porco2 = [0, 1, 1]\n",
        "porco3 = [1, 1, 0]\n",
        "\n",
        "cachorro1 = [0, 1, 1]\n",
        "cachorro2 = [1, 0, 1]\n",
        "cachorro3 = [1, 1, 1]\n",
        "\n",
        "# 1 => porco, 0 => cachorro\n",
        "#dados = [porco1, porco2, porco3, cachorro1, cachorro2, cachorro3]\n",
        "treino_x = [porco1, porco2, porco3, cachorro1, cachorro2, cachorro3]\n",
        "\n",
        "#classes = [1,1,1,0,0,0]\n",
        "treino_y = [1,1,1,0,0,0]"
      ],
      "execution_count": 1,
      "outputs": []
    },
    {
      "cell_type": "code",
      "metadata": {
        "colab": {
          "base_uri": "https://localhost:8080/",
          "height": 130
        },
        "id": "5gTYeGyFrLud",
        "outputId": "2e8d588a-350b-40b1-d034-5233d85d023e"
      },
      "source": [
        "f(x) = y"
      ],
      "execution_count": 16,
      "outputs": [
        {
          "output_type": "error",
          "ename": "SyntaxError",
          "evalue": "ignored",
          "traceback": [
            "\u001b[0;36m  File \u001b[0;32m\"<ipython-input-16-8473578da917>\"\u001b[0;36m, line \u001b[0;32m1\u001b[0m\n\u001b[0;31m    f(x) = y\u001b[0m\n\u001b[0m            ^\u001b[0m\n\u001b[0;31mSyntaxError\u001b[0m\u001b[0;31m:\u001b[0m can't assign to function call\n"
          ]
        }
      ]
    },
    {
      "cell_type": "code",
      "metadata": {
        "colab": {
          "base_uri": "https://localhost:8080/"
        },
        "id": "hgrv3NPumgRl",
        "outputId": "54238460-e946-41bf-fff5-1b70cd21eb39"
      },
      "source": [
        "#criar um mecanismo que consiga estimar a classe desse tipo de dado. Para isso, usaremos algorítimos de machine learning, data analysis e estatística que estão armazenados nas diversas bibliotecas do Python. A que usaremos se chama Scikit Learn\n",
        "from sklearn.svm import LinearSVC\n",
        "\n",
        "#LinearSVC é uma classe que possibilita a criação de um modelo. Portanto, instanciaremos esse estimador (recebendo o nome model), e solicitaremos que ele analise a aprenda com os dados que disponibilizamos\n",
        "model = LinearSVC()\n",
        "\n",
        "#Assim como um ser humano aprende sobre a classificação dos objetos no mundo de forma supervisionada, o modelo tentará adaptar sua lógica de pensamento com base nos dados. O método utilizado para esta ação chama-se fit(), que receberá como parâmetro dados, mas como estamos realizando um aprendizado supervisionado\n",
        "#model.fit(dados, classes)\n",
        "model.fit(treino_x, treino_y)"
      ],
      "execution_count": 5,
      "outputs": [
        {
          "output_type": "execute_result",
          "data": {
            "text/plain": [
              "LinearSVC(C=1.0, class_weight=None, dual=True, fit_intercept=True,\n",
              "          intercept_scaling=1, loss='squared_hinge', max_iter=1000,\n",
              "          multi_class='ovr', penalty='l2', random_state=None, tol=0.0001,\n",
              "          verbose=0)"
            ]
          },
          "metadata": {
            "tags": []
          },
          "execution_count": 5
        }
      ]
    },
    {
      "cell_type": "markdown",
      "metadata": {
        "id": "KFE8xPmspnEl"
      },
      "source": [
        "Agora dicionaremos um animal_misterioso, isto é, um ainda não identificado, com o valor [1,1,1] (com pelo logo, patas longas e emite o som \"au-au\"). A ideia é descobrir qual é a opinião do nosso modelo a respetio da categorização deste animal. Para tanto, usaremos o método predict() que receberá animal_misterioso.\n"
      ]
    },
    {
      "cell_type": "code",
      "metadata": {
        "id": "gRgD2L2jpzkV"
      },
      "source": [
        "#animal_misterioso = [1,1,1]\n",
        "#model.predict(animal_misterioso)"
      ],
      "execution_count": 2,
      "outputs": []
    },
    {
      "cell_type": "markdown",
      "metadata": {
        "id": "YzMmqBGLp0pD"
      },
      "source": [
        "Ao executarmos o código teremos uma mensagem de erro: ValueError: Expected 2D array, got 1D array instead. Ou seja, é esperado um array de duas dimensões, enquanto tivemos apenas uma. O predict() espera um array com vários itens, neste caso temos apenas um. Então passaremos uma lista com um item, que por sua vez possui três features."
      ]
    },
    {
      "cell_type": "code",
      "metadata": {
        "colab": {
          "base_uri": "https://localhost:8080/"
        },
        "id": "2Zd4BWUhndjz",
        "outputId": "c1a55495-4129-4905-e294-9eb692f11176"
      },
      "source": [
        "animal_misterioso = [1,1,1]\n",
        "model.predict([animal_misterioso])"
      ],
      "execution_count": 6,
      "outputs": [
        {
          "output_type": "execute_result",
          "data": {
            "text/plain": [
              "array([0])"
            ]
          },
          "metadata": {
            "tags": []
          },
          "execution_count": 6
        }
      ]
    },
    {
      "cell_type": "markdown",
      "metadata": {
        "id": "Nxv-z0F6piwt"
      },
      "source": [
        "Executaremos o código e teremos como resultado array([0]), isto é, cachorro."
      ]
    },
    {
      "cell_type": "code",
      "metadata": {
        "colab": {
          "base_uri": "https://localhost:8080/"
        },
        "id": "pgform28nz1F",
        "outputId": "5b8725b9-ca68-44d7-eca7-720f36809b4e"
      },
      "source": [
        "misterio1 = [1,1,1]\n",
        "misterio2 = [1,1,0]\n",
        "misterio3 = [0,1,1]\n",
        "\n",
        "#testes = [misterio1, misterio2, misterio3]\n",
        "teste_x = [misterio1, misterio2, misterio3]\n",
        "\n",
        "model.predict(teste_x)"
      ],
      "execution_count": 7,
      "outputs": [
        {
          "output_type": "execute_result",
          "data": {
            "text/plain": [
              "array([0, 1, 0])"
            ]
          },
          "metadata": {
            "tags": []
          },
          "execution_count": 7
        }
      ]
    },
    {
      "cell_type": "markdown",
      "metadata": {
        "id": "tioO2wxqpY8-"
      },
      "source": [
        "Ao executarmos o código, teremos como resultado ([0, 1, 0]), isto é, cachorro, porco e cachorro. Mas, na verdade, esses animais já tinham uma classe definida que não foi revelada antes do teste: se tratavam de um cachorro e dois porcos ([0,1,1]). Neste caso, o algorítimo errou 1 de 3. Qual sua taxa de acerto então?\n",
        "\n",
        "A taxa de acerto é uma das medidas mais básicas de um modelo, e serve para analisarmos quantas classificações o nosso algorítimo foi capaz de acertar dentro de um determinado conjunto de daods.\n",
        "\n",
        "Vamos atribuir o resultado da previsao (predict()) a uma variável, que chamaremos de previsoes (e que equivalem a [0, 1, 0]). O valor real, que tínhamos previamente, será chamado deteste_classes"
      ]
    },
    {
      "cell_type": "code",
      "metadata": {
        "id": "ne4rpPHCoA71"
      },
      "source": [
        "misterio1 = [1,1,1]\n",
        "misterio2 = [1,1,0]\n",
        "misterio3 = [0,1,1]\n",
        "\n",
        "#testes = [misterio1, misterio2, misterio3]\n",
        "teste_x = [misterio1, misterio2, misterio3]\n",
        "\n",
        "#testes_classes = [0, 1, 1]\n",
        "teste_y = [0, 1, 1]"
      ],
      "execution_count": 8,
      "outputs": []
    },
    {
      "cell_type": "code",
      "metadata": {
        "id": "rQxNgeVOsElP"
      },
      "source": [
        "#previsoes = model.predict(testes)\n",
        "previsoes = model.predict(teste_x)"
      ],
      "execution_count": 10,
      "outputs": []
    },
    {
      "cell_type": "code",
      "metadata": {
        "colab": {
          "base_uri": "https://localhost:8080/"
        },
        "id": "RtIqNxgVsZTi",
        "outputId": "86c8b551-37b6-4427-d299-13339f10046b"
      },
      "source": [
        "#corretos = (previsoes == testes_classes).sum()\n",
        "corretos = (previsoes == teste_y).sum()\n",
        "#total = len(testes)\n",
        "total = len(teste_x)\n",
        "taxa_de_acerto = corretos/total\n",
        "print(\"Taxa de acerto \", taxa_de_acerto*100)"
      ],
      "execution_count": 11,
      "outputs": [
        {
          "output_type": "stream",
          "text": [
            "Taxa de acerto  66.66666666666666\n"
          ],
          "name": "stdout"
        }
      ]
    },
    {
      "cell_type": "markdown",
      "metadata": {
        "id": "mY7sOL7upWwP"
      },
      "source": [
        " taxa de acerto, em inglês, é chamada de accuracy (em português, \"acurácia\"). Existe uma medida, a accuracy_score, que já existe no Sklearn e pode ser importada facilmente do módulo metrics"
      ]
    },
    {
      "cell_type": "code",
      "metadata": {
        "colab": {
          "base_uri": "https://localhost:8080/"
        },
        "id": "YDaEApC3pU-9",
        "outputId": "e24dd7a9-88ef-43a8-e37c-fb9bdfde85b7"
      },
      "source": [
        "from sklearn.metrics import accuracy_score\n",
        "\n",
        "#taxa_de_acerto = accuracy_score(testes_classes, previsoes)\n",
        "taxa_de_acerto = accuracy_score(teste_y, previsoes)\n",
        "print(\"Taxa de acerto\", taxa_de_acerto * 100)"
      ],
      "execution_count": 12,
      "outputs": [
        {
          "output_type": "stream",
          "text": [
            "Taxa de acerto 66.66666666666666\n"
          ],
          "name": "stdout"
        }
      ]
    },
    {
      "cell_type": "markdown",
      "metadata": {
        "id": "HgMK9wgYt8MB"
      },
      "source": [
        "**Nessa aula aprendemos a:**\n",
        "\n",
        "* Treinar algoritmos;\n",
        "* Definir características (features) do que desejamos classificar;\n",
        "* Classificar em categorias;\n",
        "* Utilizar o módulo linearSVC e accuracy_score;\n",
        "* Utilizar o método fit;\n",
        "* Prever dados com a função predict;\n",
        "* Calcular a taxa de acerto do modelo;\n",
        "* Comparar testes e previsões;\n",
        "* Utilizar a função soma;\n",
        "* Padronizar variáveis;\n",
        "\n"
      ]
    },
    {
      "cell_type": "code",
      "metadata": {
        "id": "hBG-YH83oA9U"
      },
      "source": [
        ""
      ],
      "execution_count": null,
      "outputs": []
    }
  ]
}