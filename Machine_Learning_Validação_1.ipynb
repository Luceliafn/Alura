{
  "nbformat": 4,
  "nbformat_minor": 0,
  "metadata": {
    "colab": {
      "name": "Machine_Learning_Validação 1.ipynb",
      "provenance": [],
      "collapsed_sections": [],
      "authorship_tag": "ABX9TyM2RJsUdCPqBB9KTHqTOLcS",
      "include_colab_link": true
    },
    "kernelspec": {
      "name": "python3",
      "display_name": "Python 3"
    }
  },
  "cells": [
    {
      "cell_type": "markdown",
      "metadata": {
        "id": "view-in-github",
        "colab_type": "text"
      },
      "source": [
        "<a href=\"https://colab.research.google.com/github/Luceliafn/Alura/blob/Machine-Learning-Introdu%C3%A7%C3%A3o-a-classifica%C3%A7%C3%A3o-com-SKLearn/Machine_Learning_Valida%C3%A7%C3%A3o_1.ipynb\" target=\"_parent\"><img src=\"https://colab.research.google.com/assets/colab-badge.svg\" alt=\"Open In Colab\"/></a>"
      ]
    },
    {
      "cell_type": "markdown",
      "metadata": {
        "id": "IVVX9TMUGdaA"
      },
      "source": [
        "#Módulo 2 KFold e Aleatoriedade"
      ]
    },
    {
      "cell_type": "markdown",
      "metadata": {
        "id": "rTsCkbRSGhBk"
      },
      "source": [
        "Ainda que nosso algorítimo esteja funcionando, vamos revisar o código e nos atentar aos seus detalhes:"
      ]
    },
    {
      "cell_type": "code",
      "metadata": {
        "colab": {
          "base_uri": "https://localhost:8080/"
        },
        "id": "SwGJClWKGlz8",
        "outputId": "079826ff-1e96-4b9c-8ffe-9115c705100a"
      },
      "source": [
        "import pandas as pd\n",
        "\n",
        "uri = \"https://gist.githubusercontent.com/guilhermesilveira/e99a526b2e7ccc6c3b70f53db43a87d2/raw/1605fc74aa778066bf2e6695e24d53cf65f2f447/machine-learning-carros-simulacao.csv\"\n",
        "dados = pd.read_csv(uri).drop(columns=[\"Unnamed: 0\"], axis=1)\n",
        "dados.head()\n",
        "\n",
        "dados = pd.read_csv(uri).drop(columns=[\"Unnamed: 0\"], axis=1)\n",
        "dados\n",
        "\n",
        "x = dados [['preco', 'idade_do_modelo', 'km_por_ano']]\n",
        "y = dados ['vendido']\n",
        "\n",
        "import numpy as np\n",
        "from sklearn.model_selection import train_test_split\n",
        "from sklearn.svm import LinearSVC\n",
        "from sklearn.metrics import accuracy_score\n",
        "from sklearn.tree import DecisionTreeClassifier\n",
        "from sklearn.model_selection import cross_validate\n",
        "\n",
        "treino_x, teste_x, treino_y, teste_y = train_test_split(x, y, test_size = 0.25,\n",
        "                                                         stratify = y)\n",
        "print(\"Treinaremos com %d elementos e testaremos com %d elementos\" % (len(treino_x), len(teste_x)))\n",
        "modelo.fit(treino_x, treino_y)\n",
        "previsoes = modelo.predict(teste_x)\n"
      ],
      "execution_count": 9,
      "outputs": [
        {
          "output_type": "stream",
          "text": [
            "Treinaremos com 7500 elementos e testaremos com 2500 elementos\n"
          ],
          "name": "stdout"
        }
      ]
    },
    {
      "cell_type": "code",
      "metadata": {
        "colab": {
          "base_uri": "https://localhost:8080/"
        },
        "id": "YBP-Y_SoJ6t0",
        "outputId": "dacc6a45-62c6-4a0f-b31e-a1219482bd4c"
      },
      "source": [
        "#aleatoriedade no cross validate\n",
        "SEED = 301\n",
        "np.random.seed(SEED)\n",
        "\n",
        "modelo = DecisionTreeClassifier(max_depth=2)\n",
        "results = cross_validate(modelo, x, y, cv = 5, return_train_score=False)\n",
        "media = results ['test_score'].mean()\n",
        "desvio_padrao = results['test_score'].std()\n",
        "print(\"Accuracy com cross validation, 5 = [%.2f, %.2f]\" % ((media - 2 *desvio_padrao) * 100, (media + 2 * desvio_padrao) * 100))"
      ],
      "execution_count": 8,
      "outputs": [
        {
          "output_type": "stream",
          "text": [
            "Accuracy com cross validation, 5 = [75.21, 76.35]\n"
          ],
          "name": "stdout"
        }
      ]
    },
    {
      "cell_type": "markdown",
      "metadata": {
        "id": "Qh5il4tzKCwZ"
      },
      "source": [
        "O que desejamos modificar é a aleatoriedade, nós desejamos que ele embaralhe nossos dados, entretanto, não existe um parâmetro para isto. Todavia, o cv aceita como parâmetro, tanto números, quanto geradores de validação cruzada. E existem diversos geradores de validação cruzada. O que estamos usando é o KFold, que \"corta\" nossos dados em K pedaços. Por sorte, o sklearn tem o KFold, no modo selection:\n",
        "\n",
        "class sklearn.model_selection.KFold(nsplits=’warn’, shuffle=False, randomstate=None)\n",
        "\n",
        "É ele que estamos usando por baixo dos panos, ou seja, sorrateiramente. Então, por enquanto, nosso cross_validate é um KFold de n_splits, no caso, igual a 10. Vamos rodar o código, que com essas modificações, ficou da seguinte forma:"
      ]
    },
    {
      "cell_type": "code",
      "metadata": {
        "id": "mbthEDuFY-c1"
      },
      "source": [
        "#def imprime_resultados(results):\n",
        " #   media = results['test_score'].mean()\n",
        " #  desvio_padrao = results['test_score'].std()\n",
        " #  print(\"Accuracy com cross validation = [%.2f, %.2f]\" % ((media - 2 * desvio_padrao)*100, (media + 2 * desvio_padrao) * 100))"
      ],
      "execution_count": 20,
      "outputs": []
    },
    {
      "cell_type": "code",
      "metadata": {
        "id": "f_JWrOq8e2bo"
      },
      "source": [
        "def imprime_resultados(results):\n",
        "    media = results['test_score'].mean()\n",
        "    desvio_padrao = results['test_score'].std()\n",
        "    print(\"Accuracy médio: %.2f\" % (media * 100))\n",
        "    print(\"Accuracy intervalo: [%.2f][%.2f]\" % ((media - 2 * desvio_padrao)*100, (media + 2 * desvio_padrao)*100))"
      ],
      "execution_count": 46,
      "outputs": []
    },
    {
      "cell_type": "markdown",
      "metadata": {
        "id": "umY4CC-wecHg"
      },
      "source": [
        "Assim, ela recebe os results inteiros e, em seguida faz a média, o desvio padrão e imprime os resultado. Neste caso, podemos copiar e colar esta parte do código.\n",
        "\n",
        "Para não dependermos de uma variável extra, excluímos 10 de print(). E, no código acima, adicionaremos uma linha ao fim do código, para que o algorítimo chame-se apenas imprime_resultados() de modo que não tenhamos de fazer manualmente sempre que formos rodar o código. Ele diretamente pegará a média, o desvio padrão e os imprimirá."
      ]
    },
    {
      "cell_type": "code",
      "metadata": {
        "colab": {
          "base_uri": "https://localhost:8080/"
        },
        "id": "25fcPuNYKEJy",
        "outputId": "afce3b55-a4ee-4a3e-9443-608e3ee79cf4"
      },
      "source": [
        "from sklearn.model_selection import KFold\n",
        "\n",
        "SEED = 301\n",
        "np.random.seed(SEED)\n",
        "\n",
        "cv = KFold(n_splits = 10, shuffle=True)\n",
        "modelo = DecisionTreeClassifier(max_depth=2)\n",
        "results = cross_validate(modelo, x, y, cv = cv, return_train_score=False)\n",
        "imprime_resultados (results)"
      ],
      "execution_count": 47,
      "outputs": [
        {
          "output_type": "stream",
          "text": [
            "Accuracy médio: 75.76\n",
            "Accuracy intervalo: [73.26][78.26]\n"
          ],
          "name": "stdout"
        }
      ]
    },
    {
      "cell_type": "markdown",
      "metadata": {
        "id": "d31mwLt3Y8sI"
      },
      "source": [
        "Como retorno, obteremos:\n",
        "\n",
        "Accuracy com cross validation, 10 = [74.37, 77.19]COPIAR CÓDIGO\n",
        "Agora, o ideal é pegarmos os valores da média de desvio padrão e colocarmos em uma função, para facilitarmos nosso trabalho. Nossa função será definida como:"
      ]
    },
    {
      "cell_type": "markdown",
      "metadata": {
        "id": "fMuiwh4pej7y"
      },
      "source": [
        "Podemos subir o código de imprime_resultados() para cima, selecionando-o e pressionando o botão \"CELL (com a seta para cima)\", para que a definição venha em primeiro. A ordenação ficará da seguinte forma:"
      ]
    },
    {
      "cell_type": "markdown",
      "metadata": {
        "id": "aSbn963Veyzx"
      },
      "source": [
        "E rodemos o código logo acima novamente, da mesma forma que estávamos fazendo, com KFold de n_splits igual a 10. Como retorno, obteremos:\n",
        "\n",
        "Accuracy com cross validation = [74.37, 77.19]\n"
      ]
    },
    {
      "cell_type": "markdown",
      "metadata": {
        "id": "9ODI2j2Ie8ek"
      },
      "source": [
        "Repare como ficou difícil de acharmos a média. Por esta razão, vamos adicionar um print() para ela em imprime_resultados(). Para especificar, mudaremos os nomes dos prints para Accuracy médio e Accuracy intervalo, respectivamente."
      ]
    },
    {
      "cell_type": "markdown",
      "metadata": {
        "id": "6qKtAVCAh6Wr"
      },
      "source": [
        "É importante ressaltar que se rodarmos diversas vezes, Accuracy se mantém, pois continua sendo determinístico. Mas ainda assim, é diferente dos valores apresentados sem o shuffle. No entanto, repare que a média obtida por meio dos dois algorítimos é bastante próxima, mas o intervalo é diferente. Na prática, se os dados não possuem alguma estrutura interna, como uma sequência por datas, por exemplo, primeiro gera-se um sequência aleatória desses dados e, em seguida, quebra-se em 10 pedaços ou faz-se ambos ao mesmo tempo. Esta é a forma tradicional de execução com shuffle e n_splits.\n",
        "\n",
        "Assim, podemos usar não somente o KFold, mas, em seu Model Selection, encontraremos o KFold e diversos outros \"quebradores\" de grupos, que são as Splitter classes. Estudaremos alguns destes outros adiante."
      ]
    },
    {
      "cell_type": "markdown",
      "metadata": {
        "id": "wGRtOBS9iHOs"
      },
      "source": [
        "#Módulo 3 - Estratificação"
      ]
    },
    {
      "cell_type": "markdown",
      "metadata": {
        "id": "SeYKZGEniViS"
      },
      "source": [
        "Sempre podemos ter muito azar em uma condição muito específica. Antes de trabalharmos com validação cruzada, estudamos uma questão de sorte e azar em que a validação era simples: treino-teste. Tínhamos o azar de que nossos dados, no momento de realmente utilizá-los, eram separados como, por exemplo, vendido ou não vendido.\n",
        "\n",
        "Como resultado, no treino estavam quase todos que não foram vendidos e no teste quase todos que foram vendidos. Ou seja, ocorria um desbalanceamento das classes, seja no conjunto inteiro de dados ou na hora de treinar e testar, e seja pela aleatoriedade ou pela natureza dos dados. Então, se tivermos azar, o que pode acontecer?\n",
        "\n",
        "Quando separávamos o treino e o teste com o train_test_split — que também está no model_selection, em Splitter Functions — tínhamos o Stratify como parâmetro, que definia a proporção. Por exemplo, se temos 70% dos dados na classe 0 (não vendido) e 30% na classe 1 (vendido), ele distribui 70% e 30% tanto para treino, quanto para teste. No entanto, esse parâmetro não existe no cross_validate do KFold, que possui apenas os parâmetros n_splits, shuffle e random_state. Sendo assim, não está estratificando.\n",
        "\n",
        "Então, vamos simular uma situação de azar para podermos aprimorar nosso processo. Sendo assim, identificaremos esse código com # Simular situação horrível de azar. Abaixo, adicionaremos o texto Pode ser uma situação de \"azar\" ou uma proporção de exemplos desbalanceado entre as classes. Pegaremos os dados (dados.sort_values()) do nosso data frame e ordenaremos pela classe vendido, crescente (ascending=True), ou seja, primeiro 0 e depois 1. Assim, o \"não vendido\" virá antes do \"vendido\". Essa é a separação que estabelecemos."
      ]
    },
    {
      "cell_type": "code",
      "metadata": {
        "colab": {
          "base_uri": "https://localhost:8080/",
          "height": 419
        },
        "id": "lqj_OMEUiat0",
        "outputId": "21294fcf-fe2a-46ca-bdec-b0193c64afee"
      },
      "source": [
        "#Simular situação horrível de azar\n",
        "#Pode ser uma situação de \"azar\" ou uma proporção de exemplos desbalanceado entre as classes.\n",
        "\n",
        "dados.sort_values(\"vendido\", ascending=True)"
      ],
      "execution_count": 49,
      "outputs": [
        {
          "output_type": "execute_result",
          "data": {
            "text/html": [
              "<div>\n",
              "<style scoped>\n",
              "    .dataframe tbody tr th:only-of-type {\n",
              "        vertical-align: middle;\n",
              "    }\n",
              "\n",
              "    .dataframe tbody tr th {\n",
              "        vertical-align: top;\n",
              "    }\n",
              "\n",
              "    .dataframe thead th {\n",
              "        text-align: right;\n",
              "    }\n",
              "</style>\n",
              "<table border=\"1\" class=\"dataframe\">\n",
              "  <thead>\n",
              "    <tr style=\"text-align: right;\">\n",
              "      <th></th>\n",
              "      <th>preco</th>\n",
              "      <th>vendido</th>\n",
              "      <th>idade_do_modelo</th>\n",
              "      <th>km_por_ano</th>\n",
              "    </tr>\n",
              "  </thead>\n",
              "  <tbody>\n",
              "    <tr>\n",
              "      <th>4999</th>\n",
              "      <td>74023.29</td>\n",
              "      <td>0</td>\n",
              "      <td>12</td>\n",
              "      <td>24812.80412</td>\n",
              "    </tr>\n",
              "    <tr>\n",
              "      <th>5322</th>\n",
              "      <td>84843.49</td>\n",
              "      <td>0</td>\n",
              "      <td>13</td>\n",
              "      <td>23095.63834</td>\n",
              "    </tr>\n",
              "    <tr>\n",
              "      <th>5319</th>\n",
              "      <td>83100.27</td>\n",
              "      <td>0</td>\n",
              "      <td>19</td>\n",
              "      <td>36240.72746</td>\n",
              "    </tr>\n",
              "    <tr>\n",
              "      <th>5316</th>\n",
              "      <td>87932.13</td>\n",
              "      <td>0</td>\n",
              "      <td>16</td>\n",
              "      <td>32249.56426</td>\n",
              "    </tr>\n",
              "    <tr>\n",
              "      <th>5315</th>\n",
              "      <td>77937.01</td>\n",
              "      <td>0</td>\n",
              "      <td>15</td>\n",
              "      <td>28414.50704</td>\n",
              "    </tr>\n",
              "    <tr>\n",
              "      <th>...</th>\n",
              "      <td>...</td>\n",
              "      <td>...</td>\n",
              "      <td>...</td>\n",
              "      <td>...</td>\n",
              "    </tr>\n",
              "    <tr>\n",
              "      <th>5491</th>\n",
              "      <td>71910.43</td>\n",
              "      <td>1</td>\n",
              "      <td>9</td>\n",
              "      <td>25778.40812</td>\n",
              "    </tr>\n",
              "    <tr>\n",
              "      <th>1873</th>\n",
              "      <td>30456.53</td>\n",
              "      <td>1</td>\n",
              "      <td>6</td>\n",
              "      <td>15468.97608</td>\n",
              "    </tr>\n",
              "    <tr>\n",
              "      <th>1874</th>\n",
              "      <td>69342.41</td>\n",
              "      <td>1</td>\n",
              "      <td>11</td>\n",
              "      <td>16909.33538</td>\n",
              "    </tr>\n",
              "    <tr>\n",
              "      <th>5499</th>\n",
              "      <td>70520.39</td>\n",
              "      <td>1</td>\n",
              "      <td>16</td>\n",
              "      <td>19622.68262</td>\n",
              "    </tr>\n",
              "    <tr>\n",
              "      <th>0</th>\n",
              "      <td>30941.02</td>\n",
              "      <td>1</td>\n",
              "      <td>18</td>\n",
              "      <td>35085.22134</td>\n",
              "    </tr>\n",
              "  </tbody>\n",
              "</table>\n",
              "<p>10000 rows × 4 columns</p>\n",
              "</div>"
            ],
            "text/plain": [
              "         preco  vendido  idade_do_modelo   km_por_ano\n",
              "4999  74023.29        0               12  24812.80412\n",
              "5322  84843.49        0               13  23095.63834\n",
              "5319  83100.27        0               19  36240.72746\n",
              "5316  87932.13        0               16  32249.56426\n",
              "5315  77937.01        0               15  28414.50704\n",
              "...        ...      ...              ...          ...\n",
              "5491  71910.43        1                9  25778.40812\n",
              "1873  30456.53        1                6  15468.97608\n",
              "1874  69342.41        1               11  16909.33538\n",
              "5499  70520.39        1               16  19622.68262\n",
              "0     30941.02        1               18  35085.22134\n",
              "\n",
              "[10000 rows x 4 columns]"
            ]
          },
          "metadata": {
            "tags": []
          },
          "execution_count": 49
        }
      ]
    },
    {
      "cell_type": "markdown",
      "metadata": {
        "id": "t0dSPY4wioU7"
      },
      "source": [
        "Conseguimos ordenar de maneira que, primeiro, apareçam todos os veículos não vendidos (0) e posteriormente todos os vendidos (1), ambos em ordem crescente. Esses dados serão chamados de dados_azar. O x_azar será como o x anterior, composto por preco, idade_do_modelo e km_por_ano, enquanto y_azar será vendido. E pegaremos só os primeiros dados_azar, por meio de head()."
      ]
    },
    {
      "cell_type": "code",
      "metadata": {
        "colab": {
          "base_uri": "https://localhost:8080/",
          "height": 204
        },
        "id": "BW4NdBmBipjD",
        "outputId": "4c841ef0-1495-4128-f45c-243356b18c6e"
      },
      "source": [
        "dados_azar = dados.sort_values(\"vendido\", ascending=True)\n",
        "x_azar = dados_azar[[\"preco\", \"idade_do_modelo\", \"km_por_ano\"]]\n",
        "y_azar = dados_azar[\"vendido\"]\n",
        "dados_azar.head()"
      ],
      "execution_count": 50,
      "outputs": [
        {
          "output_type": "execute_result",
          "data": {
            "text/html": [
              "<div>\n",
              "<style scoped>\n",
              "    .dataframe tbody tr th:only-of-type {\n",
              "        vertical-align: middle;\n",
              "    }\n",
              "\n",
              "    .dataframe tbody tr th {\n",
              "        vertical-align: top;\n",
              "    }\n",
              "\n",
              "    .dataframe thead th {\n",
              "        text-align: right;\n",
              "    }\n",
              "</style>\n",
              "<table border=\"1\" class=\"dataframe\">\n",
              "  <thead>\n",
              "    <tr style=\"text-align: right;\">\n",
              "      <th></th>\n",
              "      <th>preco</th>\n",
              "      <th>vendido</th>\n",
              "      <th>idade_do_modelo</th>\n",
              "      <th>km_por_ano</th>\n",
              "    </tr>\n",
              "  </thead>\n",
              "  <tbody>\n",
              "    <tr>\n",
              "      <th>4999</th>\n",
              "      <td>74023.29</td>\n",
              "      <td>0</td>\n",
              "      <td>12</td>\n",
              "      <td>24812.80412</td>\n",
              "    </tr>\n",
              "    <tr>\n",
              "      <th>5322</th>\n",
              "      <td>84843.49</td>\n",
              "      <td>0</td>\n",
              "      <td>13</td>\n",
              "      <td>23095.63834</td>\n",
              "    </tr>\n",
              "    <tr>\n",
              "      <th>5319</th>\n",
              "      <td>83100.27</td>\n",
              "      <td>0</td>\n",
              "      <td>19</td>\n",
              "      <td>36240.72746</td>\n",
              "    </tr>\n",
              "    <tr>\n",
              "      <th>5316</th>\n",
              "      <td>87932.13</td>\n",
              "      <td>0</td>\n",
              "      <td>16</td>\n",
              "      <td>32249.56426</td>\n",
              "    </tr>\n",
              "    <tr>\n",
              "      <th>5315</th>\n",
              "      <td>77937.01</td>\n",
              "      <td>0</td>\n",
              "      <td>15</td>\n",
              "      <td>28414.50704</td>\n",
              "    </tr>\n",
              "  </tbody>\n",
              "</table>\n",
              "</div>"
            ],
            "text/plain": [
              "         preco  vendido  idade_do_modelo   km_por_ano\n",
              "4999  74023.29        0               12  24812.80412\n",
              "5322  84843.49        0               13  23095.63834\n",
              "5319  83100.27        0               19  36240.72746\n",
              "5316  87932.13        0               16  32249.56426\n",
              "5315  77937.01        0               15  28414.50704"
            ]
          },
          "metadata": {
            "tags": []
          },
          "execution_count": 50
        }
      ]
    },
    {
      "cell_type": "markdown",
      "metadata": {
        "id": "j5vz1KZBitBB"
      },
      "source": [
        "Agora, vamos rodar o KFold sem o shuffle, e com esses dados de azar."
      ]
    },
    {
      "cell_type": "code",
      "metadata": {
        "colab": {
          "base_uri": "https://localhost:8080/"
        },
        "id": "E1IhyV48iubu",
        "outputId": "bf02d64b-f310-4220-8c8c-ccbf8d3261b9"
      },
      "source": [
        "from sklearn.model_selection import KFold\n",
        "\n",
        "SEED = 301\n",
        "np.random.seed(SEED)\n",
        "\n",
        "cv = KFold(n_splits = 10)\n",
        "modelo = DecisionTreeClassifier(max_depth=2)\n",
        "results = cross_validate(modelo, x_azar, y_azar, cv = cv, return_train_score=False)\n",
        "imprime_resultados(results)"
      ],
      "execution_count": 51,
      "outputs": [
        {
          "output_type": "stream",
          "text": [
            "Accuracy médio: 57.84\n",
            "Accuracy intervalo: [34.29][81.39]\n"
          ],
          "name": "stdout"
        }
      ]
    },
    {
      "cell_type": "code",
      "metadata": {
        "colab": {
          "base_uri": "https://localhost:8080/"
        },
        "id": "0pu0sqCYiuc_",
        "outputId": "5d12fe09-60e1-4395-d3bf-c165106aa749"
      },
      "source": [
        "from sklearn.model_selection import KFold\n",
        "\n",
        "SEED = 301\n",
        "np.random.seed(SEED)\n",
        "\n",
        "cv = KFold(n_splits = 10, shuffle=True)\n",
        "\n",
        "modelo = DecisionTreeClassifier(max_depth=2)\n",
        "results = cross_validate(modelo, x_azar, y_azar, cv = cv, return_train_score=False)\n",
        "imprime_resultados(results)"
      ],
      "execution_count": 54,
      "outputs": [
        {
          "output_type": "stream",
          "text": [
            "Accuracy médio: 75.78\n",
            "Accuracy intervalo: [72.30][79.26]\n"
          ],
          "name": "stdout"
        }
      ]
    },
    {
      "cell_type": "markdown",
      "metadata": {
        "id": "LXjbN_Zglq-I"
      },
      "source": [
        "O suffle nos é suficientemente bom nesta situação em que temos balanço para recuperar, mas e se quiséssemos fazer a estratificação?\n",
        "\n",
        "Além do KFold, temos outros geradores de grupo de separação, dentre eles o StratifiedKFold, que recebe um número de n_splits, shuffle e depois separa, mantendo a proporção entre as classes."
      ]
    },
    {
      "cell_type": "markdown",
      "metadata": {
        "id": "0rnL3kgHltjV"
      },
      "source": [
        "class sklearn.model_selection.StratifiedKFold(nsplits=’warn’, shuffle=False, randomstate=None)\n",
        "\n",
        "É este que usaremos! Então, copiaremos e colaremos nosso algorítimo e, em cv, modificaremos KFold para StratifiedKFold, lembrando de importá-lo no início do código."
      ]
    },
    {
      "cell_type": "code",
      "metadata": {
        "colab": {
          "base_uri": "https://localhost:8080/"
        },
        "id": "kmSW66BRlwBI",
        "outputId": "d2728de6-e915-48d8-cfc3-e341661d41c9"
      },
      "source": [
        "from sklearn.model_selection import StratifiedKFold\n",
        "\n",
        "SEED = 301\n",
        "np.random.seed(SEED)\n",
        "\n",
        "cv = KFold(n_splits = 10, shuffle=True)\n",
        "modelo = DecisionTreeClassifier(max_depth=2)\n",
        "results = cross_validate(modelo, x_azar, y_azar, cv = cv, return_train_score=False)\n",
        "imprime_resultados(results)"
      ],
      "execution_count": 56,
      "outputs": [
        {
          "output_type": "stream",
          "text": [
            "Accuracy médio: 75.78\n",
            "Accuracy intervalo: [72.30][79.26]\n"
          ],
          "name": "stdout"
        }
      ]
    },
    {
      "cell_type": "markdown",
      "metadata": {
        "id": "GWdxfTy-l6Tx"
      },
      "source": [
        ""
      ]
    },
    {
      "cell_type": "markdown",
      "metadata": {
        "id": "214H7AHPl6Wg"
      },
      "source": [
        "Embora o resultado seja mais fechado, é o mais recomendado. Principalmente quando há um desbalanço entre duas ou mais classes, é interessante utilizar o StratifiedKFold.\n",
        "\n",
        "Reparem como ficariam os resultados se o deixassemos no aleatório. Inclusive, mesmo sem o shuffle, ele recupera bem a capacidade de prever o quão bom seria o treinamento. Vamos deletar shuffle:"
      ]
    },
    {
      "cell_type": "code",
      "metadata": {
        "colab": {
          "base_uri": "https://localhost:8080/"
        },
        "id": "N9Osii8Vl8QP",
        "outputId": "67fcb7b5-07f9-4c00-ab04-18684af4d62c"
      },
      "source": [
        "from sklearn.model_selection import StratifiedKFold\n",
        "\n",
        "SEED = 301\n",
        "np.random.seed(SEED)\n",
        "\n",
        "cv = StratifiedKFold(n_splits = 10)\n",
        "modelo = DecisionTreeClassifier(max_depth=2)\n",
        "results = cross_validate(modelo, x_azar, y_azar, cv = cv, return_train_score=False)\n",
        "imprime_resultados(results)"
      ],
      "execution_count": 57,
      "outputs": [
        {
          "output_type": "stream",
          "text": [
            "Accuracy médio: 75.78\n",
            "Accuracy intervalo: [73.83][77.73]\n"
          ],
          "name": "stdout"
        }
      ]
    },
    {
      "cell_type": "markdown",
      "metadata": {
        "id": "v7MQl1Ail-2a"
      },
      "source": [
        ""
      ]
    },
    {
      "cell_type": "markdown",
      "metadata": {
        "id": "fpleLJE2l-4z"
      },
      "source": [
        "Feita essa demonstração, podemos voltar o shuffle ao código, mas será o StrafiedKFold que mais usaremos em casos de desbalanço entre as classes."
      ]
    },
    {
      "cell_type": "markdown",
      "metadata": {
        "id": "Ogo-yEFfmEN6"
      },
      "source": [
        "Como citado, existem diversas maneiras de validar os estimadores. A árvore de decisão DecisionTreeClassifier que criamos é uma delas, mas podíamos usar uma validação tradicional com treino-teste, com validação cruzada, que podem usar valores aleatórios para embaralhar os dados. Também podemos fazer isso de uma forma estratificada, ou misturando a estratificação com aleatoriedade e validação cruzada.\n",
        "\n",
        "Reparem que, em sklearn.model_selection, encontramos diversas classes, cada uma em seu momento recomendado de uso. Existe muita literatura apontando os melhores momentos, vantagens e desvantagens de usar uma abordagem ou outra. Aqui, tento mostrar cenários onde é importante migrar de um para outro para termos uma previsão mais realista do quanto esse algorítimo pode ser bom em produção. Algumas dessas boas práticas são facilmente encontradas na própria documentação aqui do Sicikit Learn.\n",
        "\n",
        "Então existem diversos guias de quando usar um e quando usa outro. Aqui, estamos pincelando alguns para que se tenha uma mínima noção apenas. À medida que você se aprofunda e aplica, não tenha medo de recorrer à documentação ou links externos, como artigos e tutorias.\n",
        "\n",
        "A seguir, continuaremos com outras abordagens para que validemos nosso modelo, seja a fim de comparação ou para medir sua funcionalidade."
      ]
    },
    {
      "cell_type": "markdown",
      "metadata": {
        "id": "HqtSaeWEmSet"
      },
      "source": [
        "O que aprendemos nesta aula:\n",
        "\n",
        "Simular uma situação com dados;\n",
        "Ordenar nosso dataframe utilizando o sort_value(“vendido“’);"
      ]
    },
    {
      "cell_type": "markdown",
      "metadata": {
        "id": "4gPi7uAamcnH"
      },
      "source": [
        "#Módulo 4 - Dados agupáveis"
      ]
    },
    {
      "cell_type": "markdown",
      "metadata": {
        "id": "08zBxuk_mhyI"
      },
      "source": [
        "**Gravando dados Aleatórios**"
      ]
    },
    {
      "cell_type": "markdown",
      "metadata": {
        "id": "GCVFHreamnB_"
      },
      "source": [
        "Para continuarmos o curso, vamos retomar alguns pontos que abordamos até aqui.\n",
        "\n",
        "Analisamos diversas maneiras de quebramos os dados para fazer a validação cruzada. Primeiramente, o train_test_split, que separava treino e teste e rodava os dados uma única vez. Depois nos atentamos ao KFold e ao StratifiedKFold com e sem aleatoriedade.\n",
        "\n",
        "Vamos analisar uma situação cotidiana relacionada às características especiais de dados. Quando um paciente dá entrada em um hospital, a equipe retém diversas informações sobre ele. Assim, temos várias linhas de dados sobre o paciente Guilherme, diversas linhas de dados sobre a paciente Ana, e assim por diante.\n",
        "\n",
        "É preciso tomar cuidado quando formos separar o treino e o teste. Temos que pensar que, ao treinarmos nosso algorítimo, nós treinamos ele com os dados; quando nós testamos, temos que ser capazes de testar como se fosse no mundo real. Entretanto, por exemplo, quando o Carlos entra no hospital, ele é um paciente novo e ainda não há dados sobre ele.\n",
        "\n",
        "No mundo real em um hospital, ele é um paciente novo, nunca visto, e aquilo que fora treinado com outros pacientes precisa funcionar com ele também. Na hora de separarmos treino e teste, teríamos de agrupar pelos pacientes. Nós não poderíamos colocar dados da Ana no treino e no teste, porque cada paciente é uma pessoa nova, no mundo real do hospital. Claro, o paciente pode voltar, mas queremos ser capazes de trabalhar com pacientes novos. E se nos treinos e testes temos repetições de pacientes, é possível que o algorítimo não generalize bem, para novos pacientes.\n",
        "\n",
        "A mesma coisa para os carros, vamos parar para pensar. Se nós temos diversos carros para os quais o nosso algorítimo, nosso estimador, funcionou bem no passado, quando surgir um novo modelo de carro, o algorítimo funcionará bem para esse último? Não sabemos! Do modo como estamos fazendo, treinamos todos os carros. No treino, nós temos todos os modelos de carro e no teste nós temos todos os modelos de carro aleatorizados e separado por classes, mas não agrupados por modelos. Ou seja, não agrupado pela característica que define o novo tipo de dado.\n",
        "\n",
        "Então, vamos pegar essa característica de agrupamento e tentar trabalhar nos nossos dados. Ou seja, no caso dos carros, trata-se do modelo do veículo.\n",
        "\n",
        "Até o momento, ainda não existe um modelo de carro chamado \"Super Guilherme\". Pode ser que esse modelo seja inventado daqui a 10 anos, por exemplo. Mas quando ele passar a existir, é preciso que sejamos capazes de prever para ele também. Para isto, no momento em que formos treinar, precisaremos agrupar por modelo e separar a validação cruzada por modelos, para depois testar modelos novos.\n",
        "\n",
        "Contudo, nota-se que nossos dados (preco, vendido, idade_do_modelo e km_por_ano) não têm a categoria modelo_do_carro. Então, vamos explorar como gerar uma nova coluna de dados para explorarmos esses dados aleatórios.\n",
        "\n",
        "É possível imaginar que o modelo de um carro esteja muito ligado a idade dele. Por exemplo, se um carro tem 20 anos, é mais provável que seja um modelo similar ao modelo de 18 anos atrás, do que ao modelo de 3 anos atrás. Isto posto, vamos usar o dado idade_do_modelo para gerar o modelo de um carro, de alguma maneira.\n",
        "\n",
        "A maneira mais simples seria nós usarmos dados.idade_do_modelo, isto é, o modelo do carro seria a idade_do_modelo desse carro. Entretanto, essa é uma premissa falsa, uma vez que nem todos os carros que tem 20 anos necessariamente são do mesmo modelo. Em vez disso, temos que injetar aleatoriedade. Por exemplo, se o carro foi criado há 18 anos, talvez esse carro seja de um modelo A, B ou C. Um modelo do ano 18, 17 ou 19 — com margem um pouco para trás e um pouco para frente. Para gerar números aleatórios é comum o uso do NumPy (np), que tem random e foi por nós utilizado algumas vezes para setar o SEED.\n",
        "\n",
        "Portanto, a primeira etapa é adicionar o SEED padrão para mantermos uma repetição. Abaixo, pegaremos um número inteiro (randint), considerando o ano do modelo menos dois (-2) até três (3)."
      ]
    },
    {
      "cell_type": "code",
      "metadata": {
        "colab": {
          "base_uri": "https://localhost:8080/"
        },
        "id": "LrmesWoBmqfL",
        "outputId": "a6bf581c-d120-4190-ff30-88c83b921dc9"
      },
      "source": [
        "np.random.seed(SEED)\n",
        "np.random.randint(-2, 3)"
      ],
      "execution_count": 58,
      "outputs": [
        {
          "output_type": "execute_result",
          "data": {
            "text/plain": [
              "-2"
            ]
          },
          "metadata": {
            "tags": []
          },
          "execution_count": 58
        }
      ]
    },
    {
      "cell_type": "markdown",
      "metadata": {
        "id": "f4NefIFRmtzh"
      },
      "source": [
        ""
      ]
    },
    {
      "cell_type": "markdown",
      "metadata": {
        "id": "gv4oCxdMmt2E"
      },
      "source": [
        "O randint gera um número entre -2 e 2. Se tirarmos a linha de SEED, será gerado várias vezes o 2, 0, e assim por diante. Ao ir à documentação do numpy.random.randint, encontramos essa aleatoriedade, que gera entre um mínimo (low) e um máximo (high).\n",
        "\n",
        "numpy.random.randint(low, high=None, size=None, dtype='l')\n",
        "\n",
        "Mas podemos apontar quantos números queremos gerar, neste caso, um número para cada um dos carros. O tamanho de nossos dados (len(dados)) é de 10.000 linhas. Então, este é o tamanho (size) que desejamos gerar."
      ]
    },
    {
      "cell_type": "code",
      "metadata": {
        "colab": {
          "base_uri": "https://localhost:8080/"
        },
        "id": "mvU1Twy6mvD4",
        "outputId": "93b8ce97-ab85-469a-b0f5-6ed14dded517"
      },
      "source": [
        "np.random.seed(SEED)\n",
        "np.random.randint(-2, 3, size=10000)"
      ],
      "execution_count": 61,
      "outputs": [
        {
          "output_type": "execute_result",
          "data": {
            "text/plain": [
              "array([-2,  2,  0, ...,  0,  2,  2])"
            ]
          },
          "metadata": {
            "tags": []
          },
          "execution_count": 61
        }
      ]
    },
    {
      "cell_type": "markdown",
      "metadata": {
        "id": "y6VlJs0sm7Dq"
      },
      "source": [
        "Desta forma, são gerados 10000 números entre -2 e 2 (3 é descartável). Agora, temos dez mil números aleatórios entre -2 e 2 e podemos somar (+) isso a dados.idade_do_modelo. Assim, teremos a idade do modelo, mais ou menos dois, para cada um dos carros. Então, o que antes era 18, passa a ser 16; o que antes era 20, passa a ser 22, e assim por diante. Aplicaremos essa lógica na nova coluna (modelo_aleatorio), para ver os campos lado a lado e, em seguida, chamamos apenas os primeiros elementos."
      ]
    },
    {
      "cell_type": "code",
      "metadata": {
        "colab": {
          "base_uri": "https://localhost:8080/",
          "height": 204
        },
        "id": "GA5X9Mywmqg5",
        "outputId": "68b74dab-be75-4fa9-8be0-b56dcbb43dc4"
      },
      "source": [
        "np.random.seed(SEED)\n",
        "dados[\"modelo_aleatorio\"] = dados.idade_do_modelo + np.random.randint(-2, 3, size=10000)\n",
        "dados.head()"
      ],
      "execution_count": 62,
      "outputs": [
        {
          "output_type": "execute_result",
          "data": {
            "text/html": [
              "<div>\n",
              "<style scoped>\n",
              "    .dataframe tbody tr th:only-of-type {\n",
              "        vertical-align: middle;\n",
              "    }\n",
              "\n",
              "    .dataframe tbody tr th {\n",
              "        vertical-align: top;\n",
              "    }\n",
              "\n",
              "    .dataframe thead th {\n",
              "        text-align: right;\n",
              "    }\n",
              "</style>\n",
              "<table border=\"1\" class=\"dataframe\">\n",
              "  <thead>\n",
              "    <tr style=\"text-align: right;\">\n",
              "      <th></th>\n",
              "      <th>preco</th>\n",
              "      <th>vendido</th>\n",
              "      <th>idade_do_modelo</th>\n",
              "      <th>km_por_ano</th>\n",
              "      <th>modelo_aleatorio</th>\n",
              "    </tr>\n",
              "  </thead>\n",
              "  <tbody>\n",
              "    <tr>\n",
              "      <th>0</th>\n",
              "      <td>30941.02</td>\n",
              "      <td>1</td>\n",
              "      <td>18</td>\n",
              "      <td>35085.22134</td>\n",
              "      <td>16</td>\n",
              "    </tr>\n",
              "    <tr>\n",
              "      <th>1</th>\n",
              "      <td>40557.96</td>\n",
              "      <td>1</td>\n",
              "      <td>20</td>\n",
              "      <td>12622.05362</td>\n",
              "      <td>22</td>\n",
              "    </tr>\n",
              "    <tr>\n",
              "      <th>2</th>\n",
              "      <td>89627.50</td>\n",
              "      <td>0</td>\n",
              "      <td>12</td>\n",
              "      <td>11440.79806</td>\n",
              "      <td>12</td>\n",
              "    </tr>\n",
              "    <tr>\n",
              "      <th>3</th>\n",
              "      <td>95276.14</td>\n",
              "      <td>0</td>\n",
              "      <td>3</td>\n",
              "      <td>43167.32682</td>\n",
              "      <td>4</td>\n",
              "    </tr>\n",
              "    <tr>\n",
              "      <th>4</th>\n",
              "      <td>117384.68</td>\n",
              "      <td>1</td>\n",
              "      <td>4</td>\n",
              "      <td>12770.11290</td>\n",
              "      <td>3</td>\n",
              "    </tr>\n",
              "  </tbody>\n",
              "</table>\n",
              "</div>"
            ],
            "text/plain": [
              "       preco  vendido  idade_do_modelo   km_por_ano  modelo_aleatorio\n",
              "0   30941.02        1               18  35085.22134                16\n",
              "1   40557.96        1               20  12622.05362                22\n",
              "2   89627.50        0               12  11440.79806                12\n",
              "3   95276.14        0                3  43167.32682                 4\n",
              "4  117384.68        1                4  12770.11290                 3"
            ]
          },
          "metadata": {
            "tags": []
          },
          "execution_count": 62
        }
      ]
    },
    {
      "cell_type": "markdown",
      "metadata": {
        "id": "PDxp9ZFVnBOq"
      },
      "source": [
        "Notem que, na primeira linha, temos 16 na coluna de modelo_aleatorio, sendo que o valor é 18 em idade_do_modelo, ou seja uma diferença de -2. Já na segunda linha, a diferença é de +2, pois temos 22 em modelo_aleatorio e 20 em idade_do_modelo. Na terceira linha, a diferença é de 0, considerando que tanto em idade_do_modelo quanto em modelo_aleatorio o valor é 12. Seguindo as comparações, ainda encontramos diferenças de +1 e -1, e por aí vai.\n",
        "\n",
        "Com isso, percebemos que, agora, temos um pouco de aleatoriedade, de acordo com a idade_do_modelo. Isso será suficiente para trabalharmos com modelos de carros. Uma única característica em que queremos destacar são os modelos gerados. Analisemos este modo aleatório, de forma única (unique()), executando o seguinte comando:"
      ]
    },
    {
      "cell_type": "code",
      "metadata": {
        "colab": {
          "base_uri": "https://localhost:8080/"
        },
        "id": "-X9T9UKDnCqX",
        "outputId": "00c27e9a-1ef5-46f9-82fe-699eb565168a"
      },
      "source": [
        "dados.modelo_aleatorio.unique()"
      ],
      "execution_count": 63,
      "outputs": [
        {
          "output_type": "execute_result",
          "data": {
            "text/plain": [
              "array([16, 22, 12,  4,  3, 11, 18, 17, 13,  0, 15, 10,  9, 14,  1,  5, 19,\n",
              "       21,  8,  7, 20,  6,  2, -1])"
            ]
          },
          "metadata": {
            "tags": []
          },
          "execution_count": 63
        }
      ]
    },
    {
      "cell_type": "markdown",
      "metadata": {
        "id": "sIkFNsmBnFje"
      },
      "source": [
        "Parece fazer sentido. No entanto, o modelo -1 ficou esquisito. Provavelmente porque era um valor 0 que, menos um, ficou -1. Uma maneira mais simples de retirar este número, é pegar o menor de todos esses valores, ou seja, o minimo deles: min:"
      ]
    },
    {
      "cell_type": "code",
      "metadata": {
        "colab": {
          "base_uri": "https://localhost:8080/"
        },
        "id": "r4sFVb5bnCr5",
        "outputId": "84f74097-6559-4424-82f5-b218f5f39126"
      },
      "source": [
        "dados.modelo_aleatorio.min()"
      ],
      "execution_count": 64,
      "outputs": [
        {
          "output_type": "execute_result",
          "data": {
            "text/plain": [
              "-1"
            ]
          },
          "metadata": {
            "tags": []
          },
          "execution_count": 64
        }
      ]
    },
    {
      "cell_type": "markdown",
      "metadata": {
        "id": "zHo4xOEZnL6Y"
      },
      "source": [
        "Portanto, transformamos esse valor mínimo (-1) em 0, somando (+) 1. Pegaremos o valor absoluto deste número (abs) — que é 1:"
      ]
    },
    {
      "cell_type": "code",
      "metadata": {
        "colab": {
          "base_uri": "https://localhost:8080/"
        },
        "id": "52OqAMjqnMrq",
        "outputId": "97a37b93-a93e-42b1-973b-a5cd35aec784"
      },
      "source": [
        "abs(dados.modelo_aleatorio.min())"
      ],
      "execution_count": 65,
      "outputs": [
        {
          "output_type": "execute_result",
          "data": {
            "text/plain": [
              "1"
            ]
          },
          "metadata": {
            "tags": []
          },
          "execution_count": 65
        }
      ]
    },
    {
      "cell_type": "markdown",
      "metadata": {
        "id": "_fuS4t7PnRpz"
      },
      "source": [
        "E somaremos em toda coluna de modelo_aleatorio. Então, já que a coluna já existe, podemos somar modelo_aleatório a abs() com:"
      ]
    },
    {
      "cell_type": "code",
      "metadata": {
        "colab": {
          "base_uri": "https://localhost:8080/",
          "height": 204
        },
        "id": "FCmI9s_3nSgy",
        "outputId": "50db1a79-ea46-4a64-f6d6-fe56813623a2"
      },
      "source": [
        "dados.modelo_aleatorio = dados.modelo_aleatorio + abs(dados.modelo_aleatorio.min())\n",
        "dados.head()"
      ],
      "execution_count": 66,
      "outputs": [
        {
          "output_type": "execute_result",
          "data": {
            "text/html": [
              "<div>\n",
              "<style scoped>\n",
              "    .dataframe tbody tr th:only-of-type {\n",
              "        vertical-align: middle;\n",
              "    }\n",
              "\n",
              "    .dataframe tbody tr th {\n",
              "        vertical-align: top;\n",
              "    }\n",
              "\n",
              "    .dataframe thead th {\n",
              "        text-align: right;\n",
              "    }\n",
              "</style>\n",
              "<table border=\"1\" class=\"dataframe\">\n",
              "  <thead>\n",
              "    <tr style=\"text-align: right;\">\n",
              "      <th></th>\n",
              "      <th>preco</th>\n",
              "      <th>vendido</th>\n",
              "      <th>idade_do_modelo</th>\n",
              "      <th>km_por_ano</th>\n",
              "      <th>modelo_aleatorio</th>\n",
              "    </tr>\n",
              "  </thead>\n",
              "  <tbody>\n",
              "    <tr>\n",
              "      <th>0</th>\n",
              "      <td>30941.02</td>\n",
              "      <td>1</td>\n",
              "      <td>18</td>\n",
              "      <td>35085.22134</td>\n",
              "      <td>17</td>\n",
              "    </tr>\n",
              "    <tr>\n",
              "      <th>1</th>\n",
              "      <td>40557.96</td>\n",
              "      <td>1</td>\n",
              "      <td>20</td>\n",
              "      <td>12622.05362</td>\n",
              "      <td>23</td>\n",
              "    </tr>\n",
              "    <tr>\n",
              "      <th>2</th>\n",
              "      <td>89627.50</td>\n",
              "      <td>0</td>\n",
              "      <td>12</td>\n",
              "      <td>11440.79806</td>\n",
              "      <td>13</td>\n",
              "    </tr>\n",
              "    <tr>\n",
              "      <th>3</th>\n",
              "      <td>95276.14</td>\n",
              "      <td>0</td>\n",
              "      <td>3</td>\n",
              "      <td>43167.32682</td>\n",
              "      <td>5</td>\n",
              "    </tr>\n",
              "    <tr>\n",
              "      <th>4</th>\n",
              "      <td>117384.68</td>\n",
              "      <td>1</td>\n",
              "      <td>4</td>\n",
              "      <td>12770.11290</td>\n",
              "      <td>4</td>\n",
              "    </tr>\n",
              "  </tbody>\n",
              "</table>\n",
              "</div>"
            ],
            "text/plain": [
              "       preco  vendido  idade_do_modelo   km_por_ano  modelo_aleatorio\n",
              "0   30941.02        1               18  35085.22134                17\n",
              "1   40557.96        1               20  12622.05362                23\n",
              "2   89627.50        0               12  11440.79806                13\n",
              "3   95276.14        0                3  43167.32682                 5\n",
              "4  117384.68        1                4  12770.11290                 4"
            ]
          },
          "metadata": {
            "tags": []
          },
          "execution_count": 66
        }
      ]
    },
    {
      "cell_type": "markdown",
      "metadata": {
        "id": "-TDHu4MxnVwU"
      },
      "source": [
        "Agora sim, analisarmos o head(), com os cinco primeiros valores da tabela. Novamente, chamaremos min() para verificar se o menor valor é realmente 0:"
      ]
    },
    {
      "cell_type": "code",
      "metadata": {
        "colab": {
          "base_uri": "https://localhost:8080/"
        },
        "id": "WJTZ2ql8nXSS",
        "outputId": "638452ab-2604-4f6c-9dd7-c2f9b0a3ff97"
      },
      "source": [
        "dados.modelo_aleatorio.min()"
      ],
      "execution_count": 67,
      "outputs": [
        {
          "output_type": "execute_result",
          "data": {
            "text/plain": [
              "0"
            ]
          },
          "metadata": {
            "tags": []
          },
          "execution_count": 67
        }
      ]
    },
    {
      "cell_type": "markdown",
      "metadata": {
        "id": "vyXBUkG1nZ2j"
      },
      "source": [
        "Pode ser incômodo que o valor mínimo seja 0, então vamos transformá-lo em 1, somando um (+ 1) ao final de modelo_aleatorio, após abs():"
      ]
    },
    {
      "cell_type": "code",
      "metadata": {
        "colab": {
          "base_uri": "https://localhost:8080/",
          "height": 204
        },
        "id": "1LQf_LJ9nbIk",
        "outputId": "e3442527-7d8c-4961-9a52-869e4c690142"
      },
      "source": [
        "dados.modelo_aleatorio = dados.modelo_aleatorio + abs(dados.modelo_aleatorio.min()) + 1\n",
        "dados.head()"
      ],
      "execution_count": 68,
      "outputs": [
        {
          "output_type": "execute_result",
          "data": {
            "text/html": [
              "<div>\n",
              "<style scoped>\n",
              "    .dataframe tbody tr th:only-of-type {\n",
              "        vertical-align: middle;\n",
              "    }\n",
              "\n",
              "    .dataframe tbody tr th {\n",
              "        vertical-align: top;\n",
              "    }\n",
              "\n",
              "    .dataframe thead th {\n",
              "        text-align: right;\n",
              "    }\n",
              "</style>\n",
              "<table border=\"1\" class=\"dataframe\">\n",
              "  <thead>\n",
              "    <tr style=\"text-align: right;\">\n",
              "      <th></th>\n",
              "      <th>preco</th>\n",
              "      <th>vendido</th>\n",
              "      <th>idade_do_modelo</th>\n",
              "      <th>km_por_ano</th>\n",
              "      <th>modelo_aleatorio</th>\n",
              "    </tr>\n",
              "  </thead>\n",
              "  <tbody>\n",
              "    <tr>\n",
              "      <th>0</th>\n",
              "      <td>30941.02</td>\n",
              "      <td>1</td>\n",
              "      <td>18</td>\n",
              "      <td>35085.22134</td>\n",
              "      <td>18</td>\n",
              "    </tr>\n",
              "    <tr>\n",
              "      <th>1</th>\n",
              "      <td>40557.96</td>\n",
              "      <td>1</td>\n",
              "      <td>20</td>\n",
              "      <td>12622.05362</td>\n",
              "      <td>24</td>\n",
              "    </tr>\n",
              "    <tr>\n",
              "      <th>2</th>\n",
              "      <td>89627.50</td>\n",
              "      <td>0</td>\n",
              "      <td>12</td>\n",
              "      <td>11440.79806</td>\n",
              "      <td>14</td>\n",
              "    </tr>\n",
              "    <tr>\n",
              "      <th>3</th>\n",
              "      <td>95276.14</td>\n",
              "      <td>0</td>\n",
              "      <td>3</td>\n",
              "      <td>43167.32682</td>\n",
              "      <td>6</td>\n",
              "    </tr>\n",
              "    <tr>\n",
              "      <th>4</th>\n",
              "      <td>117384.68</td>\n",
              "      <td>1</td>\n",
              "      <td>4</td>\n",
              "      <td>12770.11290</td>\n",
              "      <td>5</td>\n",
              "    </tr>\n",
              "  </tbody>\n",
              "</table>\n",
              "</div>"
            ],
            "text/plain": [
              "       preco  vendido  idade_do_modelo   km_por_ano  modelo_aleatorio\n",
              "0   30941.02        1               18  35085.22134                18\n",
              "1   40557.96        1               20  12622.05362                24\n",
              "2   89627.50        0               12  11440.79806                14\n",
              "3   95276.14        0                3  43167.32682                 6\n",
              "4  117384.68        1                4  12770.11290                 5"
            ]
          },
          "metadata": {
            "tags": []
          },
          "execution_count": 68
        }
      ]
    },
    {
      "cell_type": "markdown",
      "metadata": {
        "id": "olsfhadZnesI"
      },
      "source": [
        "Então, geraremos novamente os números com o SEED, executando:"
      ]
    },
    {
      "cell_type": "code",
      "metadata": {
        "colab": {
          "base_uri": "https://localhost:8080/",
          "height": 204
        },
        "id": "_F1c25_bngMu",
        "outputId": "d077139d-245c-4802-ce21-fd034dadc3b6"
      },
      "source": [
        "np.random.seed(SEED)\n",
        "dados['modelo_aleatorio'] = dados.idade_do_modelo +np.random.randint(-2, 3, size=10000)\n",
        "dados.head()"
      ],
      "execution_count": 69,
      "outputs": [
        {
          "output_type": "execute_result",
          "data": {
            "text/html": [
              "<div>\n",
              "<style scoped>\n",
              "    .dataframe tbody tr th:only-of-type {\n",
              "        vertical-align: middle;\n",
              "    }\n",
              "\n",
              "    .dataframe tbody tr th {\n",
              "        vertical-align: top;\n",
              "    }\n",
              "\n",
              "    .dataframe thead th {\n",
              "        text-align: right;\n",
              "    }\n",
              "</style>\n",
              "<table border=\"1\" class=\"dataframe\">\n",
              "  <thead>\n",
              "    <tr style=\"text-align: right;\">\n",
              "      <th></th>\n",
              "      <th>preco</th>\n",
              "      <th>vendido</th>\n",
              "      <th>idade_do_modelo</th>\n",
              "      <th>km_por_ano</th>\n",
              "      <th>modelo_aleatorio</th>\n",
              "    </tr>\n",
              "  </thead>\n",
              "  <tbody>\n",
              "    <tr>\n",
              "      <th>0</th>\n",
              "      <td>30941.02</td>\n",
              "      <td>1</td>\n",
              "      <td>18</td>\n",
              "      <td>35085.22134</td>\n",
              "      <td>16</td>\n",
              "    </tr>\n",
              "    <tr>\n",
              "      <th>1</th>\n",
              "      <td>40557.96</td>\n",
              "      <td>1</td>\n",
              "      <td>20</td>\n",
              "      <td>12622.05362</td>\n",
              "      <td>22</td>\n",
              "    </tr>\n",
              "    <tr>\n",
              "      <th>2</th>\n",
              "      <td>89627.50</td>\n",
              "      <td>0</td>\n",
              "      <td>12</td>\n",
              "      <td>11440.79806</td>\n",
              "      <td>12</td>\n",
              "    </tr>\n",
              "    <tr>\n",
              "      <th>3</th>\n",
              "      <td>95276.14</td>\n",
              "      <td>0</td>\n",
              "      <td>3</td>\n",
              "      <td>43167.32682</td>\n",
              "      <td>4</td>\n",
              "    </tr>\n",
              "    <tr>\n",
              "      <th>4</th>\n",
              "      <td>117384.68</td>\n",
              "      <td>1</td>\n",
              "      <td>4</td>\n",
              "      <td>12770.11290</td>\n",
              "      <td>3</td>\n",
              "    </tr>\n",
              "  </tbody>\n",
              "</table>\n",
              "</div>"
            ],
            "text/plain": [
              "       preco  vendido  idade_do_modelo   km_por_ano  modelo_aleatorio\n",
              "0   30941.02        1               18  35085.22134                16\n",
              "1   40557.96        1               20  12622.05362                22\n",
              "2   89627.50        0               12  11440.79806                12\n",
              "3   95276.14        0                3  43167.32682                 4\n",
              "4  117384.68        1                4  12770.11290                 3"
            ]
          },
          "metadata": {
            "tags": []
          },
          "execution_count": 69
        }
      ]
    },
    {
      "cell_type": "markdown",
      "metadata": {
        "id": "FfUViuK4nkT-"
      },
      "source": [
        "E, abaixo, executando unique(), mostremos que há diversos valores, o mínimo continua sendo - 1 e o absoluto sendo 1. No entanto, na sequência, executaremos o código ao qual somamos um (+ 1) à coluna de modelo_aleatorio:"
      ]
    },
    {
      "cell_type": "code",
      "metadata": {
        "colab": {
          "base_uri": "https://localhost:8080/",
          "height": 204
        },
        "id": "abs1drMAngOZ",
        "outputId": "c9526e80-280c-4007-8ce2-6d61a0ccaafa"
      },
      "source": [
        "dados.modelo_aleatorio = dados.modelo_aleatorio + abs(dados.modelo_aleatorio.min()) + 1\n",
        "dados.head()"
      ],
      "execution_count": 70,
      "outputs": [
        {
          "output_type": "execute_result",
          "data": {
            "text/html": [
              "<div>\n",
              "<style scoped>\n",
              "    .dataframe tbody tr th:only-of-type {\n",
              "        vertical-align: middle;\n",
              "    }\n",
              "\n",
              "    .dataframe tbody tr th {\n",
              "        vertical-align: top;\n",
              "    }\n",
              "\n",
              "    .dataframe thead th {\n",
              "        text-align: right;\n",
              "    }\n",
              "</style>\n",
              "<table border=\"1\" class=\"dataframe\">\n",
              "  <thead>\n",
              "    <tr style=\"text-align: right;\">\n",
              "      <th></th>\n",
              "      <th>preco</th>\n",
              "      <th>vendido</th>\n",
              "      <th>idade_do_modelo</th>\n",
              "      <th>km_por_ano</th>\n",
              "      <th>modelo_aleatorio</th>\n",
              "    </tr>\n",
              "  </thead>\n",
              "  <tbody>\n",
              "    <tr>\n",
              "      <th>0</th>\n",
              "      <td>30941.02</td>\n",
              "      <td>1</td>\n",
              "      <td>18</td>\n",
              "      <td>35085.22134</td>\n",
              "      <td>18</td>\n",
              "    </tr>\n",
              "    <tr>\n",
              "      <th>1</th>\n",
              "      <td>40557.96</td>\n",
              "      <td>1</td>\n",
              "      <td>20</td>\n",
              "      <td>12622.05362</td>\n",
              "      <td>24</td>\n",
              "    </tr>\n",
              "    <tr>\n",
              "      <th>2</th>\n",
              "      <td>89627.50</td>\n",
              "      <td>0</td>\n",
              "      <td>12</td>\n",
              "      <td>11440.79806</td>\n",
              "      <td>14</td>\n",
              "    </tr>\n",
              "    <tr>\n",
              "      <th>3</th>\n",
              "      <td>95276.14</td>\n",
              "      <td>0</td>\n",
              "      <td>3</td>\n",
              "      <td>43167.32682</td>\n",
              "      <td>6</td>\n",
              "    </tr>\n",
              "    <tr>\n",
              "      <th>4</th>\n",
              "      <td>117384.68</td>\n",
              "      <td>1</td>\n",
              "      <td>4</td>\n",
              "      <td>12770.11290</td>\n",
              "      <td>5</td>\n",
              "    </tr>\n",
              "  </tbody>\n",
              "</table>\n",
              "</div>"
            ],
            "text/plain": [
              "       preco  vendido  idade_do_modelo   km_por_ano  modelo_aleatorio\n",
              "0   30941.02        1               18  35085.22134                18\n",
              "1   40557.96        1               20  12622.05362                24\n",
              "2   89627.50        0               12  11440.79806                14\n",
              "3   95276.14        0                3  43167.32682                 6\n",
              "4  117384.68        1                4  12770.11290                 5"
            ]
          },
          "metadata": {
            "tags": []
          },
          "execution_count": 70
        }
      ]
    },
    {
      "cell_type": "code",
      "metadata": {
        "colab": {
          "base_uri": "https://localhost:8080/"
        },
        "id": "KoBwnvmqnotl",
        "outputId": "bc5da39d-d877-4c7d-c0f1-3eb8018ab7f5"
      },
      "source": [
        "dados.modelo_aleatorio.min()"
      ],
      "execution_count": 71,
      "outputs": [
        {
          "output_type": "execute_result",
          "data": {
            "text/plain": [
              "1"
            ]
          },
          "metadata": {
            "tags": []
          },
          "execution_count": 71
        }
      ]
    },
    {
      "cell_type": "markdown",
      "metadata": {
        "id": "27nhEQv5nrUG"
      },
      "source": [
        "Deletaremos as célula de abs() e unique(), porque elas não serão mais necessárias. Para isso, podemos selecioná-las e acionar o comando \"Command + M D\" ou clicar nos três pontos enfilerados na vertical, localizados no canto direito da célula que queremos deletar e selecionar a opção \"Delete cell\"."
      ]
    },
    {
      "cell_type": "markdown",
      "metadata": {
        "id": "UJE2BBewnrW8"
      },
      "source": [
        "Vamos focar em gerar (SEED), somar um (+ 1) à coluna de modelo_aleatorio e imprimir. Como estamos executando os processos de uma vez só, podemos juntá-los. Então, selecionaremos, copiaremos e colaremos o código de soma ao SEED, deixando-o da seguinte forma:"
      ]
    },
    {
      "cell_type": "code",
      "metadata": {
        "colab": {
          "base_uri": "https://localhost:8080/",
          "height": 204
        },
        "id": "cCf3WvWfnxTP",
        "outputId": "60ea336f-b62b-4718-8252-3be8ceae25c4"
      },
      "source": [
        "np.random.seed(SEED)\n",
        "dados['modelo_aleatorio'] = dados.idade_do_modelo + np.random.randint(-2, 3, size=10000)\n",
        "dados.modelo_aleatorio = dados.modelo_aleatorio + abs(dados.modelo_aleatorio.min()) + 1\n",
        "dados.head()"
      ],
      "execution_count": 74,
      "outputs": [
        {
          "output_type": "execute_result",
          "data": {
            "text/html": [
              "<div>\n",
              "<style scoped>\n",
              "    .dataframe tbody tr th:only-of-type {\n",
              "        vertical-align: middle;\n",
              "    }\n",
              "\n",
              "    .dataframe tbody tr th {\n",
              "        vertical-align: top;\n",
              "    }\n",
              "\n",
              "    .dataframe thead th {\n",
              "        text-align: right;\n",
              "    }\n",
              "</style>\n",
              "<table border=\"1\" class=\"dataframe\">\n",
              "  <thead>\n",
              "    <tr style=\"text-align: right;\">\n",
              "      <th></th>\n",
              "      <th>preco</th>\n",
              "      <th>vendido</th>\n",
              "      <th>idade_do_modelo</th>\n",
              "      <th>km_por_ano</th>\n",
              "      <th>modelo_aleatorio</th>\n",
              "    </tr>\n",
              "  </thead>\n",
              "  <tbody>\n",
              "    <tr>\n",
              "      <th>0</th>\n",
              "      <td>30941.02</td>\n",
              "      <td>1</td>\n",
              "      <td>18</td>\n",
              "      <td>35085.22134</td>\n",
              "      <td>18</td>\n",
              "    </tr>\n",
              "    <tr>\n",
              "      <th>1</th>\n",
              "      <td>40557.96</td>\n",
              "      <td>1</td>\n",
              "      <td>20</td>\n",
              "      <td>12622.05362</td>\n",
              "      <td>24</td>\n",
              "    </tr>\n",
              "    <tr>\n",
              "      <th>2</th>\n",
              "      <td>89627.50</td>\n",
              "      <td>0</td>\n",
              "      <td>12</td>\n",
              "      <td>11440.79806</td>\n",
              "      <td>14</td>\n",
              "    </tr>\n",
              "    <tr>\n",
              "      <th>3</th>\n",
              "      <td>95276.14</td>\n",
              "      <td>0</td>\n",
              "      <td>3</td>\n",
              "      <td>43167.32682</td>\n",
              "      <td>6</td>\n",
              "    </tr>\n",
              "    <tr>\n",
              "      <th>4</th>\n",
              "      <td>117384.68</td>\n",
              "      <td>1</td>\n",
              "      <td>4</td>\n",
              "      <td>12770.11290</td>\n",
              "      <td>5</td>\n",
              "    </tr>\n",
              "  </tbody>\n",
              "</table>\n",
              "</div>"
            ],
            "text/plain": [
              "       preco  vendido  idade_do_modelo   km_por_ano  modelo_aleatorio\n",
              "0   30941.02        1               18  35085.22134                18\n",
              "1   40557.96        1               20  12622.05362                24\n",
              "2   89627.50        0               12  11440.79806                14\n",
              "3   95276.14        0                3  43167.32682                 6\n",
              "4  117384.68        1                4  12770.11290                 5"
            ]
          },
          "metadata": {
            "tags": []
          },
          "execution_count": 74
        }
      ]
    },
    {
      "cell_type": "markdown",
      "metadata": {
        "id": "XeSNgTZon8HO"
      },
      "source": [
        "Se rodarmos unique() novamente:"
      ]
    },
    {
      "cell_type": "code",
      "metadata": {
        "colab": {
          "base_uri": "https://localhost:8080/"
        },
        "id": "GEvnbO6Wn816",
        "outputId": "8e9ba71a-6c14-4290-d743-0505b3dc47f8"
      },
      "source": [
        "dados.modelo_aleatorio.unique()"
      ],
      "execution_count": 75,
      "outputs": [
        {
          "output_type": "execute_result",
          "data": {
            "text/plain": [
              "array([18, 24, 14,  6,  5, 13, 20, 19, 15,  2, 17, 12, 11, 16,  3,  7, 21,\n",
              "       23, 10,  9, 22,  8,  4,  1])"
            ]
          },
          "metadata": {
            "tags": []
          },
          "execution_count": 75
        }
      ]
    },
    {
      "cell_type": "markdown",
      "metadata": {
        "id": "4bG44YysoAD7"
      },
      "source": [
        "Agora que geramos os dados que gostaríamos, mudaremos o nome do campo modelo_aleatorio para simplesmente modelo e faremos as devidas substituições nos locais em que modelo_aleatorio aparecia no código. Como já tínhamos a coluna modelo_aleatorio, ela se mantém. Para obter os valores únicos, bastará executarmos unique():\n",
        "\n"
      ]
    },
    {
      "cell_type": "code",
      "metadata": {
        "colab": {
          "base_uri": "https://localhost:8080/"
        },
        "id": "ZodT64oYnxU6",
        "outputId": "d4b4718b-0234-4d61-be4e-9e1ff07e4a2b"
      },
      "source": [
        "dados.modelo_aleatorio.unique()"
      ],
      "execution_count": 77,
      "outputs": [
        {
          "output_type": "execute_result",
          "data": {
            "text/plain": [
              "array([18, 24, 14,  6,  5, 13, 20, 19, 15,  2, 17, 12, 11, 16,  3,  7, 21,\n",
              "       23, 10,  9, 22,  8,  4,  1])"
            ]
          },
          "metadata": {
            "tags": []
          },
          "execution_count": 77
        }
      ]
    },
    {
      "cell_type": "markdown",
      "metadata": {
        "id": "JhmtfVNDoDHK"
      },
      "source": [
        "E para contar quantas vezes cada valor de modelo apareceu, bastará executarmos:"
      ]
    },
    {
      "cell_type": "code",
      "metadata": {
        "colab": {
          "base_uri": "https://localhost:8080/"
        },
        "id": "WRSOtulnnovY",
        "outputId": "ea9f0e68-f9f7-4e49-832e-36063c696908"
      },
      "source": [
        "dados.modelo_aleatorio.value_counts()"
      ],
      "execution_count": 78,
      "outputs": [
        {
          "output_type": "execute_result",
          "data": {
            "text/plain": [
              "20    901\n",
              "19    798\n",
              "18    771\n",
              "21    723\n",
              "17    709\n",
              "16    668\n",
              "14    621\n",
              "22    575\n",
              "15    573\n",
              "13    557\n",
              "12    511\n",
              "11    401\n",
              "10    371\n",
              "23    370\n",
              "9     336\n",
              "8     278\n",
              "7     206\n",
              "24    199\n",
              "6     181\n",
              "5     108\n",
              "4      76\n",
              "3      44\n",
              "2      17\n",
              "1       6\n",
              "Name: modelo_aleatorio, dtype: int64"
            ]
          },
          "metadata": {
            "tags": []
          },
          "execution_count": 78
        }
      ]
    },
    {
      "cell_type": "markdown",
      "metadata": {
        "id": "rJT9ihAooSLi"
      },
      "source": [
        ""
      ]
    },
    {
      "cell_type": "markdown",
      "metadata": {
        "id": "YHvddoOboSOL"
      },
      "source": [
        "Nela, encontramos que o modelo número 20 apareceu 901 vezes, o modelo 19 apareceu 798, e assim por diante. Analisando-a, perceberemos que alguns modelos aparecem mais que outros. Maravilha! Era o que queríamos.\n",
        "\n",
        "Se quisermos remover a coluna modelo_aleatorio, na barra de menu superior, podemos usar o caminho \"Runtime > Restart and run all\", para que ele rode do zero e apareça somente a coluna modelo."
      ]
    },
    {
      "cell_type": "markdown",
      "metadata": {
        "id": "-HVEJV76obeB"
      },
      "source": [
        "**Validação cruzada usando grupos**"
      ]
    },
    {
      "cell_type": "markdown",
      "metadata": {
        "id": "GQaUUFGqofYv"
      },
      "source": [
        "Agora que temos os dados criados, como modelo do carro, precisamos testar nosso estimador. Para isto, lembrem-se, que é muito importante pensar qual tipo de teste e treino será utilizado, pois se escolhermos um tipo inapropriado, obteremos uma estimativa irreal de como esse estimador funcionará no mundo real.\n",
        "\n",
        "Por exemplo, se escolhermos um StratifiedKFold, com shuffle:"
      ]
    },
    {
      "cell_type": "code",
      "metadata": {
        "colab": {
          "base_uri": "https://localhost:8080/"
        },
        "id": "1XiVxF4eontF",
        "outputId": "0a8f95ff-4ab5-428a-fa27-53054fedab88"
      },
      "source": [
        "from sklearn.model_selection import StratifiedKFold\n",
        "\n",
        "SEED = 301\n",
        "np.random.seed(SEED)\n",
        "\n",
        "cv = StratifiedKFold(n_splits = 10, shuffle=True)\n",
        "modelo = DecisionTreeClassifier(max_depth=2)\n",
        "results = cross_validate(modelo, x_azar, y_azar, cv = cv, return_train_score=False)\n",
        "imprime_resultados(results)"
      ],
      "execution_count": 79,
      "outputs": [
        {
          "output_type": "stream",
          "text": [
            "Accuracy médio: 75.78\n",
            "Accuracy intervalo: [73.55][78.01]\n"
          ],
          "name": "stdout"
        }
      ]
    },
    {
      "cell_type": "markdown",
      "metadata": {
        "id": "M1aC6ooAoqIB"
      },
      "source": [
        "Os agrupamentos serão ignorados. E, embora ele funcione bem, os modelos de carro que aparecerão tanto em treino quanto em teste não serão realistas. No mundo real, a qualquer momento pode surgir um novo modelo de carro e nosso algorítimo terá que saber lidar com esse modelo. Contudo, a Accuracy de 75.78, obtida na execução do código acima, não condiz necessariamente com adição de um modelo novo, porque ele usa todos os modelos no treino e no teste — provavelmente por causa do shuffle —, o que é irreal.\n",
        "\n",
        "Sendo assim, em vez de utilizar o StratifiedKFold com shuffle, vamos usar o tradicional KFold:\n",
        "\n"
      ]
    },
    {
      "cell_type": "code",
      "metadata": {
        "colab": {
          "base_uri": "https://localhost:8080/"
        },
        "id": "4WoGPkQ5oruw",
        "outputId": "a0ca20cf-60e1-4b1a-8855-bcbbac3584f8"
      },
      "source": [
        "from sklearn.model_selection import KFold\n",
        "\n",
        "SEED = 301\n",
        "np.random.seed(SEED)\n",
        "\n",
        "cv = KFold(n_splits = 10)\n",
        "modelo = DecisionTreeClassifier(max_depth=2)\n",
        "results = cross_validate(modelo, x_azar, y_azar, cv = cv, return_train_score=False)\n",
        "imprime_resultados(results)"
      ],
      "execution_count": 82,
      "outputs": [
        {
          "output_type": "stream",
          "text": [
            "Accuracy médio: 57.84\n",
            "Accuracy intervalo: [34.29][81.39]\n"
          ],
          "name": "stdout"
        }
      ]
    },
    {
      "cell_type": "markdown",
      "metadata": {
        "id": "suZg7uxfpFlf"
      },
      "source": [
        "No entanto, este modelo se vale de todos os modelos de carro para prever todos os modelos de carro, portanto, também é irreal. O que realmente precisamos é: de capacidade para separar treino e teste na validação cruzada, de acordo com os grupos. Se formos ao scikit-learn, encontraremos validação cruzada que separa por grupo. Para encontrá-lo, digite cross validation group kfold em sua ferramenta de busca, e acesse o resultado que contém \"sklearn.model_selection.GroupKFold — scikit-learn 0.20.0 ...\".\n",
        "\n",
        "Copiemos e colemos o código StratifiedKFold e o colaremos em uma nova célula, ao final, para alterarmos o model_selection de StratifiedKFold para GroupKFold, e substituindo StratifiedKFold por ele em todas as linhas que for necessário. Manteremos o número de splits (n_splits) igual a 10 e removeremos o shuffledeixando o algorítimo da seguinte forma:"
      ]
    },
    {
      "cell_type": "code",
      "metadata": {
        "colab": {
          "base_uri": "https://localhost:8080/"
        },
        "id": "2Ac3D_M7pG3E",
        "outputId": "5ae6b31f-2166-4f81-e26b-ac0f8bedc109"
      },
      "source": [
        "from sklearn.model_selection import GroupKFold\n",
        "\n",
        "SEED = 301\n",
        "np.random.seed(SEED)\n",
        "\n",
        "cv = GroupKFold(n_splits = 10)\n",
        "modelo = DecisionTreeClassifier(max_depth=2)\n",
        "#results = cross_validate(modelo, x_azar, y_azar, cv = cv, return_train_score=False)\n",
        "results = cross_validate(modelo, x_azar, y_azar, cv = cv, groups = dados.modelo_aleatorio, return_train_score=False)\n",
        "imprime_resultados(results)"
      ],
      "execution_count": 89,
      "outputs": [
        {
          "output_type": "stream",
          "text": [
            "Accuracy médio: 75.78\n",
            "Accuracy intervalo: [73.67][77.90]\n"
          ],
          "name": "stdout"
        }
      ]
    },
    {
      "cell_type": "markdown",
      "metadata": {
        "id": "tyyrXJWkp--S"
      },
      "source": [
        "O valor da média obtida é próximo ao de StratifiedKFold, porque os dados de um modelo de carro estão funcionando de maneria muito parecida, mas isso não é regra. Por exemplo, imagine que passe a existir um carro voador que faz viagens espaciais. A maneira de precificar este carro será totalmente diferente do que este estimador é capaz de classificar.\n",
        "\n",
        "No caso que estamos trabalhanso, de modo geral, os carros se comportam indiferentemente do modelo. Então, nossa classificação foi próxima, levando em consideração ou não o modelo do carro. Quando é dito \"levando em consideração\" não é para estimar, mas sim para treinar e testar. Reparem que x o x_azar, entre outros, continuam sem usar a coluna modelo. Para classificar só usamos preco, idade_do_modelo e km por ano.\n",
        "\n",
        "Este é o exemplo do GroupKFold e do porquê é importante o utilizarmos. Adiante, estudaremos outras maneiras de usar a seleção de modelos.\n",
        "\n"
      ]
    },
    {
      "cell_type": "markdown",
      "metadata": {
        "id": "ErMTaoeeqM05"
      },
      "source": [
        "**O que aprendemos nesta aula:**\n",
        "\n",
        "* Gerar dados aleatórios com o randint;\n",
        "* Gerar uma nova coluna de dados;\n",
        "* Utilizar o comando unique para mostrar os modelos únicos;\n",
        "* Utilizar o GroupKFold para agrupar por grupo.\n"
      ]
    },
    {
      "cell_type": "markdown",
      "metadata": {
        "id": "0K6AFx4sqWCx"
      },
      "source": [
        "#Modulo 5 - Pipeline de treino e validação"
      ]
    },
    {
      "cell_type": "markdown",
      "metadata": {
        "id": "hmJfW3xuqiYT"
      },
      "source": [
        "**A importância do pipeline no crossvalidate**"
      ]
    },
    {
      "cell_type": "markdown",
      "metadata": {
        "id": "zDmzlO4Kqqbk"
      },
      "source": [
        "A seguir, vamos organizar o que fizemos até agora. Como geramos alguns dados de modelo, intitularemos essa ação, clicando em \"+ TEXT\", no menu superior. Assim, adicionaremos uma caixa de texto, na qual digitaremos #Gerando dados aleatórios de modelo de carro para simulação de agrupamento ao usar nosso estimador. Feito isso, o título será encontrado em destaque, acima do respectivo trecho de código:"
      ]
    },
    {
      "cell_type": "code",
      "metadata": {
        "colab": {
          "base_uri": "https://localhost:8080/"
        },
        "id": "s7uYGtajqr_O",
        "outputId": "2e081ad9-debc-4fc7-bdb6-4e7879fe2081"
      },
      "source": [
        "np.random.seed(SEED)\n",
        "dados['modelo'] = dados.idade_do_modelo + np.random.randint(-2, 3, size=10000)\n",
        "dados.modelo = dados.modelo + abs(dados.modelo.min()) + 1\n",
        "dados.head"
      ],
      "execution_count": 91,
      "outputs": [
        {
          "output_type": "execute_result",
          "data": {
            "text/plain": [
              "<bound method NDFrame.head of           preco  vendido  ...  modelo_aleatorio  modelo\n",
              "0      30941.02        1  ...                18      18\n",
              "1      40557.96        1  ...                24      24\n",
              "2      89627.50        0  ...                14      14\n",
              "3      95276.14        0  ...                 6       6\n",
              "4     117384.68        1  ...                 5       5\n",
              "...         ...      ...  ...               ...     ...\n",
              "9995   97112.86        0  ...                14      14\n",
              "9996  107424.63        1  ...                17      17\n",
              "9997   93856.99        0  ...                 6       6\n",
              "9998   51250.57        1  ...                11      11\n",
              "9999   87945.73        0  ...                23      23\n",
              "\n",
              "[10000 rows x 6 columns]>"
            ]
          },
          "metadata": {
            "tags": []
          },
          "execution_count": 91
        }
      ]
    },
    {
      "cell_type": "markdown",
      "metadata": {
        "id": "7Po6-fjDqySP"
      },
      "source": [
        "Mais à frente, quando executamos o teste, intitularemos o seguinte código como #Testando validação cruzada com GroupKFold:"
      ]
    },
    {
      "cell_type": "code",
      "metadata": {
        "colab": {
          "base_uri": "https://localhost:8080/"
        },
        "id": "pyMVJLSjqzzF",
        "outputId": "fe0ef219-5067-4306-ab3e-f23ad108b327"
      },
      "source": [
        "#Testando validação crizada com GroupKFold\n",
        "\n",
        "from sklearn.model_selection import GroupKFold\n",
        "\n",
        "SEED = 301\n",
        "np.random.seed(SEED)\n",
        "\n",
        "cv = GroupKFold(n_splits = 10)\n",
        "modelo = DecisionTreeClassifier(max_depth=2)\n",
        "results = cross_validate(modelo, x_azar, y_azar, cv = cv, groups = dados.modelo, return_train_score=False)\n",
        "imprime_resultados(results)"
      ],
      "execution_count": 93,
      "outputs": [
        {
          "output_type": "stream",
          "text": [
            "Accuracy médio: 75.78\n",
            "Accuracy intervalo: [73.67][77.90]\n"
          ],
          "name": "stdout"
        }
      ]
    },
    {
      "cell_type": "markdown",
      "metadata": {
        "id": "LL77yezRq9fK"
      },
      "source": [
        "Pronto! Daqui para frente, a ideia é lidar com outro tipo de estimador com validação cruzada.\n",
        "\n",
        "Anteriormente, percebemos que a árvore de decisão não precisa primeiramente balancear, escalar, as nossas features. Alguns algorítimos precisam, como o SVM, visto no curso anterior. Eles são muito influenciáveis e sensíveis à escala de cada uma das features. Então, analisando o resultado obtido de sort_values(), com ascending=True:\n",
        "\n"
      ]
    },
    {
      "cell_type": "markdown",
      "metadata": {
        "id": "0SzMwyZlq9iq"
      },
      "source": [
        "Se idade_do_modelo tem valores entre 0 e 20 e a preco tem entre 0 e 90 mil, a influência dessas features em nosso algorítimo, no SVM, por exemplo, será muito diferente entre uma e outra. Então, reescalamos as features quando usamos os algorítimos que são sensíveis à escala, à grandeza dos dados.\n",
        "\n",
        "Ao final de tudo que codamos e executamos, adicionaremos uma caixa de texto, clicando em \"+ TEXT\", para adicionar o título #Cross validation com StandardScaler, que é o escalador que havíamos utilizado anteriormente.\n",
        "\n",
        "Da mesma forma que fizemos anteriormente, utilizaremos o Standardscaler na parte de pré processamento. Vamos importá-lo com:"
      ]
    },
    {
      "cell_type": "code",
      "metadata": {
        "id": "1MoLGAEIqz1O"
      },
      "source": [
        "from sklearn.preprocessing import StandardScaler"
      ],
      "execution_count": 97,
      "outputs": []
    },
    {
      "cell_type": "markdown",
      "metadata": {
        "id": "1JloFanJrFNr"
      },
      "source": [
        "Lembram que já havíamos separado o x e o y, com train_test_split? Rodaremos essa variação mesmo com o SVC. Então, pegaremos treino e teste e criaremos o scaler primeiro, que é o SatandardScaler. O scaler será treinado (fit()) no treino_x e depois vamos transformar (transform()) treino_x e teste_x. O primeiro será chamando de treino_x_escalado e o segundo será teste_x_escalado.\n",
        "\n",
        "Após escalar, rodaremos o modelo de SVC, ou svm, do SKLearn, que utilizamos logo no começo. Copiaremos o código para fazer o import, abaixo do import de StandardScaler. Abaixo de teste_x_escalado, definiremos o modelo como SVC. Feito isso, rodaremos o fit(), gerar as previsoes e accuracy_score, da mesma forma que fizemos anteriormente. Sendo assim, copiaremos as respectivas linhas e as colaremos abaixo de modelo. Lembrem-se de fazer os devidos ajustes! Em fit(), trabalharemos as versões escaladas de treino_x e teste_x. E, agora que o SVC tem a questão da aleatoriedade, vamos adicionar o SEED igual a 301. O código ficará da seguinte forma:\n",
        "\n"
      ]
    },
    {
      "cell_type": "code",
      "metadata": {
        "colab": {
          "base_uri": "https://localhost:8080/"
        },
        "id": "I4SaYwTarGmH",
        "outputId": "30ee0c64-6b1a-4c96-c351-bc23cca12b59"
      },
      "source": [
        "from sklearn.preprocessing import StandardScaler\n",
        "from sklearn.svm import SVC\n",
        "\n",
        "SEED = 301\n",
        "np.random.seed(SEED)\n",
        "\n",
        "scaler = StandardScaler()\n",
        "scaler.fit(treino_x)\n",
        "treino_x_escalado = scaler.transform(treino_x)\n",
        "teste_x_escalado = scaler.transform(teste_x)\n",
        "\n",
        "modelo = SVC()\n",
        "modelo.fit(treino_x_escalado, treino_y)\n",
        "previsoes = modelo.predict(teste_x_escalado)\n",
        "\n",
        "acuracia = accuracy_score(teste_y, previsoes) * 100\n",
        "print(\"A Acurácia foi de %.2f\" % acuracia)\n"
      ],
      "execution_count": 101,
      "outputs": [
        {
          "output_type": "stream",
          "text": [
            "A Acurácia foi de 77.52\n"
          ],
          "name": "stdout"
        }
      ]
    },
    {
      "cell_type": "markdown",
      "metadata": {
        "id": "vDelhLyIr9Ij"
      },
      "source": [
        "Maravilha! Agora, vamos rodar treino-teste de cross_validate com agrupamento (GroupKFold). E, em vez de usar DecisionTreeClassifier, usaremos o SVC(). Por não fazer parte dele, max_depth precisa ser retirado. Então, o treino-teste que queremos rodar ficará da seguinte forma:\n",
        "\n"
      ]
    },
    {
      "cell_type": "code",
      "metadata": {
        "colab": {
          "base_uri": "https://localhost:8080/"
        },
        "id": "QFWiKGKFrGot",
        "outputId": "cc4fee02-0694-4551-83c5-e36d1ddca406"
      },
      "source": [
        "from sklearn.model_selection import GroupKFold\n",
        "\n",
        "SEED = 301\n",
        "np.random.seed(SEED)\n",
        "\n",
        "cv = GroupKFold(n_splits = 10)\n",
        "modelo = SVC()\n",
        "results = cross_validate(modelo, x_azar, y_azar, cv = cv, groups = dados.modelo,return_train_score=False)\n",
        "imprime_resultados(results)"
      ],
      "execution_count": 102,
      "outputs": [
        {
          "output_type": "stream",
          "text": [
            "Accuracy médio: 77.27\n",
            "Accuracy intervalo: [74.35][80.20]\n"
          ],
          "name": "stdout"
        }
      ]
    },
    {
      "cell_type": "markdown",
      "metadata": {
        "id": "KPEqNt5csC_e"
      },
      "source": [
        "Ao rodar, talvez após um tempo um pouco maior, obteremos um péssimo resultado:\n",
        "\n",
        "Accuracy médio: 58.00\n",
        "Accuracy intervalo: [56.10, 59.89]"
      ]
    },
    {
      "cell_type": "markdown",
      "metadata": {
        "id": "8mhhvflpsGUO"
      },
      "source": [
        ""
      ]
    },
    {
      "cell_type": "markdown",
      "metadata": {
        "id": "R5r-tXyusGYB"
      },
      "source": [
        "Se pensarmos, será que os dados escalados foram utilizados? Ao analisarmos, percebeeremos que não, porque os dados escalados estão em treino_x_escalado e teste_x_escalado e, no caso, em cross_validate() foi utilizado o x_azar, que não está escalado e faz parte dos dados crus.\n",
        "\n",
        "Para escalar e inseri-los em cross_validate(), vamos reescalar todo o x_azar e utilizá-lo de uma só vez. Antes, vamos pensar mais um pouquinho. Para escalar o x_azar, teremos que criar um StandardScaler, dar um fit() e um transform() nele. Assim, estamos fazendo o scaling do x_azar:"
      ]
    },
    {
      "cell_type": "code",
      "metadata": {
        "id": "zkv8RqBesHwm"
      },
      "source": [
        "scaler = StandardScaler()\n",
        "scaler.fit(x_azar)\n",
        "x_azar_escalado = scaler.transform(x_azar)"
      ],
      "execution_count": 104,
      "outputs": []
    },
    {
      "cell_type": "code",
      "metadata": {
        "colab": {
          "base_uri": "https://localhost:8080/"
        },
        "id": "hSpt2VEXsM_W",
        "outputId": "5f75bf5e-0536-4230-a92d-dea0908224b3"
      },
      "source": [
        "x_azar_escalado"
      ],
      "execution_count": 105,
      "outputs": [
        {
          "output_type": "execute_result",
          "data": {
            "text/plain": [
              "array([[ 0.3636103 , -0.39591706,  0.24651152],\n",
              "       [ 0.79214444, -0.18257669,  0.03346607],\n",
              "       [ 0.72310419,  1.09746554,  1.66435195],\n",
              "       ...,\n",
              "       [ 0.17822399, -0.60925743, -0.73405662],\n",
              "       [ 0.2248779 ,  0.45744443, -0.39741686],\n",
              "       [-1.34266351,  0.88412517,  1.52099053]])"
            ]
          },
          "metadata": {
            "tags": []
          },
          "execution_count": 105
        }
      ]
    },
    {
      "cell_type": "markdown",
      "metadata": {
        "id": "LNLLGJDdsPvJ"
      },
      "source": [
        ""
      ]
    },
    {
      "cell_type": "markdown",
      "metadata": {
        "id": "LOwP5VOysPy3"
      },
      "source": [
        "Agora sim, valores que estão escalados, tirando um desvio padrão e a média, dividindo pelo desvio padrão, e temos os valores escalados. Então, rodaremos novamente o cross_validate com GroupKFold, com x_azar_escalado em vez de x_azar. Rodemos o código da seguinte forma:"
      ]
    },
    {
      "cell_type": "code",
      "metadata": {
        "colab": {
          "base_uri": "https://localhost:8080/"
        },
        "id": "tkcNy6CJsRCc",
        "outputId": "cd612ec9-8707-487c-9d21-70e13543106c"
      },
      "source": [
        "from sklearn.model_selection import GroupKFold\n",
        "\n",
        "SEED = 301\n",
        "np.random.seed(SEED)\n",
        "\n",
        "cv = GroupKFold(n_splits = 10)\n",
        "modelo = SVC()\n",
        "results = cross_validate(modelo, x_azar_escalado, y_azar, cv = cv, groups = dados.modelo,return_train_score=False)\n",
        "imprime_resultados(results)"
      ],
      "execution_count": 106,
      "outputs": [
        {
          "output_type": "stream",
          "text": [
            "Accuracy médio: 76.70\n",
            "Accuracy intervalo: [74.30][79.10]\n"
          ],
          "name": "stdout"
        }
      ]
    },
    {
      "cell_type": "markdown",
      "metadata": {
        "id": "Kb3F_nBusUVI"
      },
      "source": [
        "Após um tempo, receberemos o seguinte resultado, que foi bem melhor:\n",
        "\n",
        "Accuracy médio: 76.71\n",
        "Accuracy intervalo: [74.30, 79.12]"
      ]
    },
    {
      "cell_type": "markdown",
      "metadata": {
        "id": "njv2f6jIsY5C"
      },
      "source": [
        "Entretanto, no pré processamento de dados, quando escalamos as features, fit() é aplicado somente nos dados de treino, e aqui o fit() acontece em treino e teste. Até porque faremos dez separações baseadas nos grupos, para treinar e testar. Ou seja, não faremos o fit() somente uma vez. Devemos fazer esse fit() diversas vezes. Na verdade, deveríamos intercalar, fazendo uma vez esse fit, uma vez a validação, uma vez o fit, outra vez a validação, com outro conjunto de dados.\n",
        "\n",
        "Toda vez que rodamos o GroupKFold, temos que fazer o fit() com uma parte de treino e rodar a validação com o teste. Se tivermos outro treino, rodaremos fit() para esse outro treino, e o teste com o resto. Assim, teremos um processo de duas fases:\n",
        "\n",
        "Primeiro, o pré processamento que escala;\n",
        "depois, a validação.\n",
        "Esse processo deve ser rodado várias vezes, de acordo com os nossos grupos e com nossos com nossos splits. Então, precisamos pensar em outra forma, além de fazer o fit() somente uma vez e, depois, rodar o GroupKFold. Provavelmente, a estimativa obtida por esse processo está muito otimista.\n",
        "\n",
        "Sendo assim, no Sklearn, criaremos um processo, uma sequência de passos, chamada Pipeline, que está em um módulo separado. Começaremos importando-o com:"
      ]
    },
    {
      "cell_type": "code",
      "metadata": {
        "id": "s9_gytL0saxc"
      },
      "source": [
        "from sklearn.pipeline import Pipeline"
      ],
      "execution_count": 107,
      "outputs": []
    },
    {
      "cell_type": "markdown",
      "metadata": {
        "id": "Wem5lgWpsdaN"
      },
      "source": [
        "O Pipeline() será como um processo de dois passos\n",
        "\n",
        "o primeiro é o scaler;\n",
        "depois, vem o modelo.\n",
        "Assim, scaler será igual ao StandarScaler(), e o modelo igual ao SVS()."
      ]
    },
    {
      "cell_type": "code",
      "metadata": {
        "colab": {
          "base_uri": "https://localhost:8080/",
          "height": 341
        },
        "id": "QWp5S2PzsfWo",
        "outputId": "51bb212b-3b6d-45f1-ba63-610cfc843aa9"
      },
      "source": [
        "from sklearn.pipeline import Pipeline\n",
        "\n",
        "scaler = StandardScaler()\n",
        "modelo = SVC \n",
        "\n",
        "pipeline = Pipeline(scaler, modelo)"
      ],
      "execution_count": 109,
      "outputs": [
        {
          "output_type": "error",
          "ename": "TypeError",
          "evalue": "ignored",
          "traceback": [
            "\u001b[0;31m---------------------------------------------------------------------------\u001b[0m",
            "\u001b[0;31mTypeError\u001b[0m                                 Traceback (most recent call last)",
            "\u001b[0;32m<ipython-input-109-415092cab3d4>\u001b[0m in \u001b[0;36m<module>\u001b[0;34m()\u001b[0m\n\u001b[1;32m      4\u001b[0m \u001b[0mmodelo\u001b[0m \u001b[0;34m=\u001b[0m \u001b[0mSVC\u001b[0m\u001b[0;34m\u001b[0m\u001b[0;34m\u001b[0m\u001b[0m\n\u001b[1;32m      5\u001b[0m \u001b[0;34m\u001b[0m\u001b[0m\n\u001b[0;32m----> 6\u001b[0;31m \u001b[0mpipeline\u001b[0m \u001b[0;34m=\u001b[0m \u001b[0mPipeline\u001b[0m\u001b[0;34m(\u001b[0m\u001b[0mscaler\u001b[0m\u001b[0;34m,\u001b[0m \u001b[0mmodelo\u001b[0m\u001b[0;34m)\u001b[0m\u001b[0;34m\u001b[0m\u001b[0;34m\u001b[0m\u001b[0m\n\u001b[0m",
            "\u001b[0;32m/usr/local/lib/python3.6/dist-packages/sklearn/pipeline.py\u001b[0m in \u001b[0;36m__init__\u001b[0;34m(self, steps, memory, verbose)\u001b[0m\n\u001b[1;32m    134\u001b[0m         \u001b[0mself\u001b[0m\u001b[0;34m.\u001b[0m\u001b[0mmemory\u001b[0m \u001b[0;34m=\u001b[0m \u001b[0mmemory\u001b[0m\u001b[0;34m\u001b[0m\u001b[0;34m\u001b[0m\u001b[0m\n\u001b[1;32m    135\u001b[0m         \u001b[0mself\u001b[0m\u001b[0;34m.\u001b[0m\u001b[0mverbose\u001b[0m \u001b[0;34m=\u001b[0m \u001b[0mverbose\u001b[0m\u001b[0;34m\u001b[0m\u001b[0;34m\u001b[0m\u001b[0m\n\u001b[0;32m--> 136\u001b[0;31m         \u001b[0mself\u001b[0m\u001b[0;34m.\u001b[0m\u001b[0m_validate_steps\u001b[0m\u001b[0;34m(\u001b[0m\u001b[0;34m)\u001b[0m\u001b[0;34m\u001b[0m\u001b[0;34m\u001b[0m\u001b[0m\n\u001b[0m\u001b[1;32m    137\u001b[0m \u001b[0;34m\u001b[0m\u001b[0m\n\u001b[1;32m    138\u001b[0m     \u001b[0;32mdef\u001b[0m \u001b[0mget_params\u001b[0m\u001b[0;34m(\u001b[0m\u001b[0mself\u001b[0m\u001b[0;34m,\u001b[0m \u001b[0mdeep\u001b[0m\u001b[0;34m=\u001b[0m\u001b[0;32mTrue\u001b[0m\u001b[0;34m)\u001b[0m\u001b[0;34m:\u001b[0m\u001b[0;34m\u001b[0m\u001b[0;34m\u001b[0m\u001b[0m\n",
            "\u001b[0;32m/usr/local/lib/python3.6/dist-packages/sklearn/pipeline.py\u001b[0m in \u001b[0;36m_validate_steps\u001b[0;34m(self)\u001b[0m\n\u001b[1;32m    165\u001b[0m \u001b[0;34m\u001b[0m\u001b[0m\n\u001b[1;32m    166\u001b[0m     \u001b[0;32mdef\u001b[0m \u001b[0m_validate_steps\u001b[0m\u001b[0;34m(\u001b[0m\u001b[0mself\u001b[0m\u001b[0;34m)\u001b[0m\u001b[0;34m:\u001b[0m\u001b[0;34m\u001b[0m\u001b[0;34m\u001b[0m\u001b[0m\n\u001b[0;32m--> 167\u001b[0;31m         \u001b[0mnames\u001b[0m\u001b[0;34m,\u001b[0m \u001b[0mestimators\u001b[0m \u001b[0;34m=\u001b[0m \u001b[0mzip\u001b[0m\u001b[0;34m(\u001b[0m\u001b[0;34m*\u001b[0m\u001b[0mself\u001b[0m\u001b[0;34m.\u001b[0m\u001b[0msteps\u001b[0m\u001b[0;34m)\u001b[0m\u001b[0;34m\u001b[0m\u001b[0;34m\u001b[0m\u001b[0m\n\u001b[0m\u001b[1;32m    168\u001b[0m \u001b[0;34m\u001b[0m\u001b[0m\n\u001b[1;32m    169\u001b[0m         \u001b[0;31m# validate names\u001b[0m\u001b[0;34m\u001b[0m\u001b[0;34m\u001b[0m\u001b[0;34m\u001b[0m\u001b[0m\n",
            "\u001b[0;31mTypeError\u001b[0m: type object argument after * must be an iterable, not StandardScaler"
          ]
        }
      ]
    },
    {
      "cell_type": "markdown",
      "metadata": {
        "id": "VqUe0b66ssya"
      },
      "source": [
        ""
      ]
    },
    {
      "cell_type": "markdown",
      "metadata": {
        "id": "dquurvRxss1t"
      },
      "source": [
        "Reparem que não foi feito o fit(). Apenas criamos o scaler e o modelo. Podemos passá-los dentro de um array ([]), com os nomes transformação e estimador, respectivamente.\n",
        "\n"
      ]
    },
    {
      "cell_type": "code",
      "metadata": {
        "colab": {
          "base_uri": "https://localhost:8080/"
        },
        "id": "ouVwJa1Ssujg",
        "outputId": "de01446f-e562-44ed-cf9a-809bead42d78"
      },
      "source": [
        "from sklearn.pipeline import Pipeline\n",
        "\n",
        "scaler =StandardScaler()\n",
        "modelo = SVC()\n",
        "\n",
        "pipeline = Pipeline([('transformacao', scaler), ('estimador', modelo)])\n",
        "pipeline"
      ],
      "execution_count": 110,
      "outputs": [
        {
          "output_type": "execute_result",
          "data": {
            "text/plain": [
              "Pipeline(memory=None,\n",
              "         steps=[('transformacao',\n",
              "                 StandardScaler(copy=True, with_mean=True, with_std=True)),\n",
              "                ('estimador',\n",
              "                 SVC(C=1.0, break_ties=False, cache_size=200, class_weight=None,\n",
              "                     coef0=0.0, decision_function_shape='ovr', degree=3,\n",
              "                     gamma='scale', kernel='rbf', max_iter=-1,\n",
              "                     probability=False, random_state=None, shrinking=True,\n",
              "                     tol=0.001, verbose=False))],\n",
              "         verbose=False)"
            ]
          },
          "metadata": {
            "tags": []
          },
          "execution_count": 110
        }
      ]
    },
    {
      "cell_type": "markdown",
      "metadata": {
        "id": "rjPyBJ8WsxvG"
      },
      "source": [
        "Desse modo, se imprimirmos ou analisarmos por dentro, encontraremos: primeiro uma transformação, que é o Standrscaler(), e depois um estimador que é um SVC().\n",
        "\n",
        "O legal do Pipeline é que ele funciona como se fosse um estimador, então tem o fit() e o predict, que funciona da mesma forma. Então, podemos passar ele para o processo de cross_validate. Portanto, copiaremos o seguinte trecho do cross_validate com GroupKFold e x_azar_escalado:"
      ]
    },
    {
      "cell_type": "code",
      "metadata": {
        "colab": {
          "base_uri": "https://localhost:8080/"
        },
        "id": "a4lAUwpKsul0",
        "outputId": "39d34c1e-7b48-4159-d99a-c0c82ae1683e"
      },
      "source": [
        "SEED = 301\n",
        "np.random.seed(SEED)\n",
        "\n",
        "cv = GroupKFold(n_splits = 10)\n",
        "modelo = SVC()\n",
        "results = cross_validate(modelo, x_azar_escalado, y_azar, cv = cv, groups = dados.modelo,return_train_score=False)\n",
        "imprime_resultados(results)"
      ],
      "execution_count": 111,
      "outputs": [
        {
          "output_type": "stream",
          "text": [
            "Accuracy médio: 76.70\n",
            "Accuracy intervalo: [74.30][79.10]\n"
          ],
          "name": "stdout"
        }
      ]
    },
    {
      "cell_type": "markdown",
      "metadata": {
        "id": "cez8SgWss17u"
      },
      "source": [
        "E o colaremos em nosso Pipeline. Por padrão, organizaremos, mantendo SEED no começo. Assim, criaremos o scaler e o SVC, e os utilizaremos em pipeline. Na sequência, definimos GroupKFold() e aplicamos cross_validate() para o pipeline inteiro, utilizando o exemplo de x_azar."
      ]
    },
    {
      "cell_type": "code",
      "metadata": {
        "colab": {
          "base_uri": "https://localhost:8080/"
        },
        "id": "wPWLYyr2sREr",
        "outputId": "e0450e3e-85cd-403c-eda1-3277b934b02c"
      },
      "source": [
        "from sklearn.pipeline import Pipeline\n",
        "\n",
        "SEED = 301\n",
        "np.random.seed(SEED)\n",
        "\n",
        "scaler =StandardScaler()\n",
        "modelo = SVC()\n",
        "\n",
        "pipeline = Pipeline([('transformacao', scaler), ('estimador', modelo)])\n",
        "\n",
        "cv = GroupKFold(n_splits = 10)\n",
        "result = cross_validate(pipeline, x_azar, y_azar, cv = cv, groups = dados.modelo, return_train_score=False)\n",
        "imprime_resultados(results)"
      ],
      "execution_count": 112,
      "outputs": [
        {
          "output_type": "stream",
          "text": [
            "Accuracy médio: 76.70\n",
            "Accuracy intervalo: [74.30][79.10]\n"
          ],
          "name": "stdout"
        }
      ]
    },
    {
      "cell_type": "markdown",
      "metadata": {
        "id": "bsTzGM6Ps5lv"
      },
      "source": [
        "E vamos rodar esse código. Agora sim, para cada um dos processos de fold, serão rodados tanto a transformacao, quanto o estimador. Depois, outro conjunto de dados será separado em dois, tanto a transformacao, quanto o estimador. Portanto, a execução do código vai demorar um pouco mais. O importante é que teremos uma estimativa mais realista do modelo SVC(), com StandardScaler, no mundo real, considerando agrupamentos. Vide resultado:\n",
        "\n",
        "Accuracy médio: 76.68\n",
        "Accuracy intervalo: [74.28, 79.08]"
      ]
    },
    {
      "cell_type": "markdown",
      "metadata": {
        "id": "qIgfMQ-Ds9Ls"
      },
      "source": [
        "Reparem que o valor anterior e este não são tão distantes, mas é preciso entender que a forma feita anteriormente estava errada, porque rodávamos o scaler somente uma vez, para depois rodar os KFolds. Não é questão de estar melhor ou pior, pois estamos falando de um processo, que deve ser rodado para cada uma das fases de treino. Portanto, se tivermos 10 fases de treino, teremos que rodar o scaler para cada uma do conjunto de treino. E é isso que o Pipeline faz para nós, de forma muito mais prática. Basta inserir todas as fases nele e rodar. Claro, pode demorar um pouco mais, mas é a opção que faz mais sentido.\n",
        "\n",
        "Para rodar algorítimos com cross_validate, que exigem pré processamento, vocês talvez queiram fazer o treino desse pré processamento somente na parte de treino. Para isso será necessário incluí-lo em um Pipeline."
      ]
    },
    {
      "cell_type": "markdown",
      "metadata": {
        "id": "Klwk4v4ltEMx"
      },
      "source": [
        "**Treinando o modelo final**"
      ]
    },
    {
      "cell_type": "markdown",
      "metadata": {
        "id": "Gu5aoTvxtHNC"
      },
      "source": [
        "Agora que temos diversas abordagens de validação você vai escolher a que acredita ser ideal para as características dos seus dados, do seu dataset, de acordo com o que deseja predizer.\n",
        "\n",
        "A média e o intervalo providos pela validação cruzada diz o quão bem você espera que o modelo se comporte com dados previamente desconhecidos mas... se você usou cross validation com 10 folds, qual dos 10 modelos treinados você vai usar agora no mundo real?\n",
        "\n",
        "A ideia é que a validação cruzada num conjunto de dados somente te diz o que você pode esperar. Ela não treina o seu modelo final.\n",
        "\n",
        "Agora você tem o algoritmo do estimador (por exemplo um DecisionTreeClassifier) e pretende usá-lo no mundo real:"
      ]
    },
    {
      "cell_type": "code",
      "metadata": {
        "id": "lvummSJHtJdV"
      },
      "source": [
        "modelo = DecisionTreeClassifier(max_depth = n)\n",
        "resultados = cross_validate(modelo, x, y, cv = ...)"
      ],
      "execution_count": null,
      "outputs": []
    },
    {
      "cell_type": "markdown",
      "metadata": {
        "id": "g5h8TEG3tLXc"
      },
      "source": [
        "Resultados indica o que esperar. Para obter o modelo final basta treiná-lo em todos os dados que você usou para o crossvalidation:"
      ]
    },
    {
      "cell_type": "code",
      "metadata": {
        "id": "rN293umytMtQ"
      },
      "source": [
        "modelo.fit(x, y)"
      ],
      "execution_count": null,
      "outputs": []
    },
    {
      "cell_type": "markdown",
      "metadata": {
        "id": "gjR2-ogTtPM0"
      },
      "source": [
        "Pronto, seu modelo está pronto para ser usado com o predict para classificar etc dados novos.\n",
        "\n"
      ]
    },
    {
      "cell_type": "markdown",
      "metadata": {
        "id": "y57VkgR_tcXv"
      },
      "source": [
        "O que aprendemos nesta aula:\n",
        "\n",
        "Treinar usando o módulo SVC\n",
        "O que é pipeline\n",
        "Utilizar o pipeline"
      ]
    }
  ]
}