{
  "nbformat": 4,
  "nbformat_minor": 0,
  "metadata": {
    "colab": {
      "name": "Machine_Learning_Validação 1.ipynb",
      "provenance": [],
      "collapsed_sections": [],
      "authorship_tag": "ABX9TyPcLN0gutyZ/tiPFDuFrDzA",
      "include_colab_link": true
    },
    "kernelspec": {
      "name": "python3",
      "display_name": "Python 3"
    }
  },
  "cells": [
    {
      "cell_type": "markdown",
      "metadata": {
        "id": "view-in-github",
        "colab_type": "text"
      },
      "source": [
        "<a href=\"https://colab.research.google.com/github/Luceliafn/Alura/blob/Machine-Learning-Introdu%C3%A7%C3%A3o-a-classifica%C3%A7%C3%A3o-com-SKLearn/Machine_Learning_Valida%C3%A7%C3%A3o_1.ipynb\" target=\"_parent\"><img src=\"https://colab.research.google.com/assets/colab-badge.svg\" alt=\"Open In Colab\"/></a>"
      ]
    },
    {
      "cell_type": "markdown",
      "metadata": {
        "id": "IVVX9TMUGdaA"
      },
      "source": [
        "#Módulo 2 KFold e Aleatoriedade"
      ]
    },
    {
      "cell_type": "markdown",
      "metadata": {
        "id": "rTsCkbRSGhBk"
      },
      "source": [
        "Ainda que nosso algorítimo esteja funcionando, vamos revisar o código e nos atentar aos seus detalhes:"
      ]
    },
    {
      "cell_type": "code",
      "metadata": {
        "colab": {
          "base_uri": "https://localhost:8080/"
        },
        "id": "SwGJClWKGlz8",
        "outputId": "079826ff-1e96-4b9c-8ffe-9115c705100a"
      },
      "source": [
        "import pandas as pd\n",
        "\n",
        "uri = \"https://gist.githubusercontent.com/guilhermesilveira/e99a526b2e7ccc6c3b70f53db43a87d2/raw/1605fc74aa778066bf2e6695e24d53cf65f2f447/machine-learning-carros-simulacao.csv\"\n",
        "dados = pd.read_csv(uri).drop(columns=[\"Unnamed: 0\"], axis=1)\n",
        "dados.head()\n",
        "\n",
        "dados = pd.read_csv(uri).drop(columns=[\"Unnamed: 0\"], axis=1)\n",
        "dados\n",
        "\n",
        "x = dados [['preco', 'idade_do_modelo', 'km_por_ano']]\n",
        "y = dados ['vendido']\n",
        "\n",
        "import numpy as np\n",
        "from sklearn.model_selection import train_test_split\n",
        "from sklearn.svm import LinearSVC\n",
        "from sklearn.metrics import accuracy_score\n",
        "from sklearn.tree import DecisionTreeClassifier\n",
        "from sklearn.model_selection import cross_validate\n",
        "\n",
        "treino_x, teste_x, treino_y, teste_y = train_test_split(x, y, test_size = 0.25,\n",
        "                                                         stratify = y)\n",
        "print(\"Treinaremos com %d elementos e testaremos com %d elementos\" % (len(treino_x), len(teste_x)))\n",
        "modelo.fit(treino_x, treino_y)\n",
        "previsoes = modelo.predict(teste_x)\n"
      ],
      "execution_count": 9,
      "outputs": [
        {
          "output_type": "stream",
          "text": [
            "Treinaremos com 7500 elementos e testaremos com 2500 elementos\n"
          ],
          "name": "stdout"
        }
      ]
    },
    {
      "cell_type": "code",
      "metadata": {
        "colab": {
          "base_uri": "https://localhost:8080/"
        },
        "id": "YBP-Y_SoJ6t0",
        "outputId": "dacc6a45-62c6-4a0f-b31e-a1219482bd4c"
      },
      "source": [
        "#aleatoriedade no cross validate\n",
        "SEED = 301\n",
        "np.random.seed(SEED)\n",
        "\n",
        "modelo = DecisionTreeClassifier(max_depth=2)\n",
        "results = cross_validate(modelo, x, y, cv = 5, return_train_score=False)\n",
        "media = results ['test_score'].mean()\n",
        "desvio_padrao = results['test_score'].std()\n",
        "print(\"Accuracy com cross validation, 5 = [%.2f, %.2f]\" % ((media - 2 *desvio_padrao) * 100, (media + 2 * desvio_padrao) * 100))"
      ],
      "execution_count": 8,
      "outputs": [
        {
          "output_type": "stream",
          "text": [
            "Accuracy com cross validation, 5 = [75.21, 76.35]\n"
          ],
          "name": "stdout"
        }
      ]
    },
    {
      "cell_type": "markdown",
      "metadata": {
        "id": "Qh5il4tzKCwZ"
      },
      "source": [
        "O que desejamos modificar é a aleatoriedade, nós desejamos que ele embaralhe nossos dados, entretanto, não existe um parâmetro para isto. Todavia, o cv aceita como parâmetro, tanto números, quanto geradores de validação cruzada. E existem diversos geradores de validação cruzada. O que estamos usando é o KFold, que \"corta\" nossos dados em K pedaços. Por sorte, o sklearn tem o KFold, no modo selection:\n",
        "\n",
        "class sklearn.model_selection.KFold(nsplits=’warn’, shuffle=False, randomstate=None)\n",
        "\n",
        "É ele que estamos usando por baixo dos panos, ou seja, sorrateiramente. Então, por enquanto, nosso cross_validate é um KFold de n_splits, no caso, igual a 10. Vamos rodar o código, que com essas modificações, ficou da seguinte forma:"
      ]
    },
    {
      "cell_type": "code",
      "metadata": {
        "id": "mbthEDuFY-c1"
      },
      "source": [
        "#def imprime_resultados(results):\n",
        " #   media = results['test_score'].mean()\n",
        " #  desvio_padrao = results['test_score'].std()\n",
        " #  print(\"Accuracy com cross validation = [%.2f, %.2f]\" % ((media - 2 * desvio_padrao)*100, (media + 2 * desvio_padrao) * 100))"
      ],
      "execution_count": 20,
      "outputs": []
    },
    {
      "cell_type": "code",
      "metadata": {
        "id": "f_JWrOq8e2bo"
      },
      "source": [
        "def imprime_resultados(results):\n",
        "    media = results['test_score'].mean()\n",
        "    desvio_padrao = results['test_score'].std()\n",
        "    print(\"Accuracy médio: %.2f\" % (media * 100))\n",
        "    print(\"Accuracy intervalo: [%.2f][%.2f]\" % ((media - 2 * desvio_padrao)*100, (media + 2 * desvio_padrao)*100))"
      ],
      "execution_count": 46,
      "outputs": []
    },
    {
      "cell_type": "markdown",
      "metadata": {
        "id": "umY4CC-wecHg"
      },
      "source": [
        "Assim, ela recebe os results inteiros e, em seguida faz a média, o desvio padrão e imprime os resultado. Neste caso, podemos copiar e colar esta parte do código.\n",
        "\n",
        "Para não dependermos de uma variável extra, excluímos 10 de print(). E, no código acima, adicionaremos uma linha ao fim do código, para que o algorítimo chame-se apenas imprime_resultados() de modo que não tenhamos de fazer manualmente sempre que formos rodar o código. Ele diretamente pegará a média, o desvio padrão e os imprimirá."
      ]
    },
    {
      "cell_type": "code",
      "metadata": {
        "colab": {
          "base_uri": "https://localhost:8080/"
        },
        "id": "25fcPuNYKEJy",
        "outputId": "afce3b55-a4ee-4a3e-9443-608e3ee79cf4"
      },
      "source": [
        "from sklearn.model_selection import KFold\n",
        "\n",
        "SEED = 301\n",
        "np.random.seed(SEED)\n",
        "\n",
        "cv = KFold(n_splits = 10, shuffle=True)\n",
        "modelo = DecisionTreeClassifier(max_depth=2)\n",
        "results = cross_validate(modelo, x, y, cv = cv, return_train_score=False)\n",
        "imprime_resultados (results)"
      ],
      "execution_count": 47,
      "outputs": [
        {
          "output_type": "stream",
          "text": [
            "Accuracy médio: 75.76\n",
            "Accuracy intervalo: [73.26][78.26]\n"
          ],
          "name": "stdout"
        }
      ]
    },
    {
      "cell_type": "markdown",
      "metadata": {
        "id": "d31mwLt3Y8sI"
      },
      "source": [
        "Como retorno, obteremos:\n",
        "\n",
        "Accuracy com cross validation, 10 = [74.37, 77.19]COPIAR CÓDIGO\n",
        "Agora, o ideal é pegarmos os valores da média de desvio padrão e colocarmos em uma função, para facilitarmos nosso trabalho. Nossa função será definida como:"
      ]
    },
    {
      "cell_type": "markdown",
      "metadata": {
        "id": "fMuiwh4pej7y"
      },
      "source": [
        "Podemos subir o código de imprime_resultados() para cima, selecionando-o e pressionando o botão \"CELL (com a seta para cima)\", para que a definição venha em primeiro. A ordenação ficará da seguinte forma:"
      ]
    },
    {
      "cell_type": "markdown",
      "metadata": {
        "id": "aSbn963Veyzx"
      },
      "source": [
        "E rodemos o código logo acima novamente, da mesma forma que estávamos fazendo, com KFold de n_splits igual a 10. Como retorno, obteremos:\n",
        "\n",
        "Accuracy com cross validation = [74.37, 77.19]\n"
      ]
    },
    {
      "cell_type": "code",
      "metadata": {
        "id": "GuMFyVsKh7HL"
      },
      "source": [
        ""
      ],
      "execution_count": null,
      "outputs": []
    },
    {
      "cell_type": "markdown",
      "metadata": {
        "id": "9ODI2j2Ie8ek"
      },
      "source": [
        "Repare como ficou difícil de acharmos a média. Por esta razão, vamos adicionar um print() para ela em imprime_resultados(). Para especificar, mudaremos os nomes dos prints para Accuracy médio e Accuracy intervalo, respectivamente."
      ]
    },
    {
      "cell_type": "markdown",
      "metadata": {
        "id": "6qKtAVCAh6Wr"
      },
      "source": [
        "É importante ressaltar que se rodarmos diversas vezes, Accuracy se mantém, pois continua sendo determinístico. Mas ainda assim, é diferente dos valores apresentados sem o shuffle. No entanto, repare que a média obtida por meio dos dois algorítimos é bastante próxima, mas o intervalo é diferente. Na prática, se os dados não possuem alguma estrutura interna, como uma sequência por datas, por exemplo, primeiro gera-se um sequência aleatória desses dados e, em seguida, quebra-se em 10 pedaços ou faz-se ambos ao mesmo tempo. Esta é a forma tradicional de execução com shuffle e n_splits.\n",
        "\n",
        "Assim, podemos usar não somente o KFold, mas, em seu Model Selection, encontraremos o KFold e diversos outros \"quebradores\" de grupos, que são as Splitter classes. Estudaremos alguns destes outros adiante."
      ]
    }
  ]
}