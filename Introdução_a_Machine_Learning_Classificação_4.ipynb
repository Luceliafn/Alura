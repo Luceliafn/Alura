{
  "nbformat": 4,
  "nbformat_minor": 0,
  "metadata": {
    "colab": {
      "name": "Introdução a Machine Learning Classificação - 4.ipynb",
      "provenance": [],
      "authorship_tag": "ABX9TyMDEcfqHNPvU4uZ4vBcPcdI",
      "include_colab_link": true
    },
    "kernelspec": {
      "name": "python3",
      "display_name": "Python 3"
    }
  },
  "cells": [
    {
      "cell_type": "markdown",
      "metadata": {
        "id": "view-in-github",
        "colab_type": "text"
      },
      "source": [
        "<a href=\"https://colab.research.google.com/github/Luceliafn/Alura/blob/Machine-Learning-Introdu%C3%A7%C3%A3o-a-classifica%C3%A7%C3%A3o-com-SKLearn/Introdu%C3%A7%C3%A3o_a_Machine_Learning_Classifica%C3%A7%C3%A3o_4.ipynb\" target=\"_parent\"><img src=\"https://colab.research.google.com/assets/colab-badge.svg\" alt=\"Open In Colab\"/></a>"
      ]
    },
    {
      "cell_type": "markdown",
      "metadata": {
        "id": "pxTmhH_poKUj"
      },
      "source": [
        "\n",
        "#Módulo 4 - Support Vector Machine e a não linearidade"
      ]
    },
    {
      "cell_type": "markdown",
      "metadata": {
        "id": "zFJqxTT_oTQx"
      },
      "source": [
        "**Estimadores não lineares e support vector machine**"
      ]
    },
    {
      "cell_type": "markdown",
      "metadata": {
        "id": "P3yMiEmsoU_0"
      },
      "source": [
        "Com o algoritmo do estimador LinearSVC, fomos capazes de encontrar uma borda de decisão na forma de linha. Esse estimador, que tentou modelar os nossos dados, é capaz de encontrar relacionamentos lineares entre as informações que passamos, mas nada além disso. Reparando nos nossos dados, percebemos que o relacionamento entre os projetos finalizados ou não parece ser melhor representado por uma curva, e não uma reta."
      ]
    },
    {
      "cell_type": "markdown",
      "metadata": {
        "id": "y135Q_Bvod7B"
      },
      "source": [
        "Tendo isso em vista, precisamos de outro estimador. Se consultarmos a documentação do Sklearn sobre o LinearSVC, que é um dos estimadores possíveis, encontraremos a informação de que existem diversos parâmetros que podem ser passados para ele.\n",
        "\n",
        "class sklearn.svm.LinearSVC(penalty=’l2’, loss=’squared_hinge’, dual=True, tol=0.0001, C=1.0, multi_class=’ovr’, fit_intercept=True, intercept_scaling=1, class_weight=None, verbose=0, random_state=None, max_iter=1000)[source]¶\n",
        "\n",
        "Temos, por exemplo, o random_state=None, o que significa que utilizar a aleatoriedade para encontrar a melhor reta representativa para nossos dados. Dessa forma, se executarmos duas vezes nosso código, podemos ter resultados diferentes de acurácia mantendo o mesmo valor de SEED, por exemplo, ora 47.41%, ora 53.0%.\n",
        "\n",
        "Isso ocorre porque estamos passando o SEED apenas para train_test_split(), e mantendo, sem saber, a aleatoriedade do LinearSVC. Isso significa também que não conseguiremos replicar os resultados.\n",
        "\n",
        "Uma alternativa é passarmos o random_state=SEED para nosso modelo LinearSVC(). Assim, os resultados se manterão toda vez que rodarmos o algoritmo."
      ]
    },
    {
      "cell_type": "code",
      "metadata": {
        "colab": {
          "base_uri": "https://localhost:8080/",
          "height": 204
        },
        "id": "Vq3Gr8t9ox6Q",
        "outputId": "76ab74c2-8414-4dc7-9ad9-d5138d376cfe"
      },
      "source": [
        "import pandas as pd\n",
        "\n",
        "uri = \"https://gist.githubusercontent.com/guilhermesilveira/1b7d5475863c15f484ac495bd70975cf/raw/16aff7a0aee67e7c100a2a48b676a2d2d142f646/projects.csv\"\n",
        "dados = pd.read_csv(uri)\n",
        "dados.head()"
      ],
      "execution_count": 2,
      "outputs": [
        {
          "output_type": "execute_result",
          "data": {
            "text/html": [
              "<div>\n",
              "<style scoped>\n",
              "    .dataframe tbody tr th:only-of-type {\n",
              "        vertical-align: middle;\n",
              "    }\n",
              "\n",
              "    .dataframe tbody tr th {\n",
              "        vertical-align: top;\n",
              "    }\n",
              "\n",
              "    .dataframe thead th {\n",
              "        text-align: right;\n",
              "    }\n",
              "</style>\n",
              "<table border=\"1\" class=\"dataframe\">\n",
              "  <thead>\n",
              "    <tr style=\"text-align: right;\">\n",
              "      <th></th>\n",
              "      <th>unfinished</th>\n",
              "      <th>expected_hours</th>\n",
              "      <th>price</th>\n",
              "    </tr>\n",
              "  </thead>\n",
              "  <tbody>\n",
              "    <tr>\n",
              "      <th>0</th>\n",
              "      <td>1</td>\n",
              "      <td>26</td>\n",
              "      <td>192</td>\n",
              "    </tr>\n",
              "    <tr>\n",
              "      <th>1</th>\n",
              "      <td>1</td>\n",
              "      <td>88</td>\n",
              "      <td>9015</td>\n",
              "    </tr>\n",
              "    <tr>\n",
              "      <th>2</th>\n",
              "      <td>1</td>\n",
              "      <td>89</td>\n",
              "      <td>2577</td>\n",
              "    </tr>\n",
              "    <tr>\n",
              "      <th>3</th>\n",
              "      <td>1</td>\n",
              "      <td>42</td>\n",
              "      <td>275</td>\n",
              "    </tr>\n",
              "    <tr>\n",
              "      <th>4</th>\n",
              "      <td>1</td>\n",
              "      <td>39</td>\n",
              "      <td>170</td>\n",
              "    </tr>\n",
              "  </tbody>\n",
              "</table>\n",
              "</div>"
            ],
            "text/plain": [
              "   unfinished  expected_hours  price\n",
              "0           1              26    192\n",
              "1           1              88   9015\n",
              "2           1              89   2577\n",
              "3           1              42    275\n",
              "4           1              39    170"
            ]
          },
          "metadata": {
            "tags": []
          },
          "execution_count": 2
        }
      ]
    },
    {
      "cell_type": "code",
      "metadata": {
        "colab": {
          "base_uri": "https://localhost:8080/",
          "height": 204
        },
        "id": "IGsxffHoo60C",
        "outputId": "daf330c3-a053-4ffb-892f-3dbc59526ec6"
      },
      "source": [
        "a_renomear = {\n",
        "    'expected_hours' : 'horas_esperadas',\n",
        "    'price' : 'preco',\n",
        "    'unfinished' : 'nao_finalizado'\n",
        "}\n",
        "dados = dados.rename(columns = a_renomear)\n",
        "dados.head()"
      ],
      "execution_count": 3,
      "outputs": [
        {
          "output_type": "execute_result",
          "data": {
            "text/html": [
              "<div>\n",
              "<style scoped>\n",
              "    .dataframe tbody tr th:only-of-type {\n",
              "        vertical-align: middle;\n",
              "    }\n",
              "\n",
              "    .dataframe tbody tr th {\n",
              "        vertical-align: top;\n",
              "    }\n",
              "\n",
              "    .dataframe thead th {\n",
              "        text-align: right;\n",
              "    }\n",
              "</style>\n",
              "<table border=\"1\" class=\"dataframe\">\n",
              "  <thead>\n",
              "    <tr style=\"text-align: right;\">\n",
              "      <th></th>\n",
              "      <th>nao_finalizado</th>\n",
              "      <th>horas_esperadas</th>\n",
              "      <th>preco</th>\n",
              "    </tr>\n",
              "  </thead>\n",
              "  <tbody>\n",
              "    <tr>\n",
              "      <th>0</th>\n",
              "      <td>1</td>\n",
              "      <td>26</td>\n",
              "      <td>192</td>\n",
              "    </tr>\n",
              "    <tr>\n",
              "      <th>1</th>\n",
              "      <td>1</td>\n",
              "      <td>88</td>\n",
              "      <td>9015</td>\n",
              "    </tr>\n",
              "    <tr>\n",
              "      <th>2</th>\n",
              "      <td>1</td>\n",
              "      <td>89</td>\n",
              "      <td>2577</td>\n",
              "    </tr>\n",
              "    <tr>\n",
              "      <th>3</th>\n",
              "      <td>1</td>\n",
              "      <td>42</td>\n",
              "      <td>275</td>\n",
              "    </tr>\n",
              "    <tr>\n",
              "      <th>4</th>\n",
              "      <td>1</td>\n",
              "      <td>39</td>\n",
              "      <td>170</td>\n",
              "    </tr>\n",
              "  </tbody>\n",
              "</table>\n",
              "</div>"
            ],
            "text/plain": [
              "   nao_finalizado  horas_esperadas  preco\n",
              "0               1               26    192\n",
              "1               1               88   9015\n",
              "2               1               89   2577\n",
              "3               1               42    275\n",
              "4               1               39    170"
            ]
          },
          "metadata": {
            "tags": []
          },
          "execution_count": 3
        }
      ]
    },
    {
      "cell_type": "code",
      "metadata": {
        "colab": {
          "base_uri": "https://localhost:8080/",
          "height": 204
        },
        "id": "w58z-d-xo_di",
        "outputId": "fd5a4ad0-d912-4018-e573-bdaf9352612f"
      },
      "source": [
        "troca = {\n",
        "    0 : 1,\n",
        "    1 : 0\n",
        "}\n",
        "dados['finalizado'] = dados.nao_finalizado.map(troca)\n",
        "dados.head()"
      ],
      "execution_count": 4,
      "outputs": [
        {
          "output_type": "execute_result",
          "data": {
            "text/html": [
              "<div>\n",
              "<style scoped>\n",
              "    .dataframe tbody tr th:only-of-type {\n",
              "        vertical-align: middle;\n",
              "    }\n",
              "\n",
              "    .dataframe tbody tr th {\n",
              "        vertical-align: top;\n",
              "    }\n",
              "\n",
              "    .dataframe thead th {\n",
              "        text-align: right;\n",
              "    }\n",
              "</style>\n",
              "<table border=\"1\" class=\"dataframe\">\n",
              "  <thead>\n",
              "    <tr style=\"text-align: right;\">\n",
              "      <th></th>\n",
              "      <th>nao_finalizado</th>\n",
              "      <th>horas_esperadas</th>\n",
              "      <th>preco</th>\n",
              "      <th>finalizado</th>\n",
              "    </tr>\n",
              "  </thead>\n",
              "  <tbody>\n",
              "    <tr>\n",
              "      <th>0</th>\n",
              "      <td>1</td>\n",
              "      <td>26</td>\n",
              "      <td>192</td>\n",
              "      <td>0</td>\n",
              "    </tr>\n",
              "    <tr>\n",
              "      <th>1</th>\n",
              "      <td>1</td>\n",
              "      <td>88</td>\n",
              "      <td>9015</td>\n",
              "      <td>0</td>\n",
              "    </tr>\n",
              "    <tr>\n",
              "      <th>2</th>\n",
              "      <td>1</td>\n",
              "      <td>89</td>\n",
              "      <td>2577</td>\n",
              "      <td>0</td>\n",
              "    </tr>\n",
              "    <tr>\n",
              "      <th>3</th>\n",
              "      <td>1</td>\n",
              "      <td>42</td>\n",
              "      <td>275</td>\n",
              "      <td>0</td>\n",
              "    </tr>\n",
              "    <tr>\n",
              "      <th>4</th>\n",
              "      <td>1</td>\n",
              "      <td>39</td>\n",
              "      <td>170</td>\n",
              "      <td>0</td>\n",
              "    </tr>\n",
              "  </tbody>\n",
              "</table>\n",
              "</div>"
            ],
            "text/plain": [
              "   nao_finalizado  horas_esperadas  preco  finalizado\n",
              "0               1               26    192           0\n",
              "1               1               88   9015           0\n",
              "2               1               89   2577           0\n",
              "3               1               42    275           0\n",
              "4               1               39    170           0"
            ]
          },
          "metadata": {
            "tags": []
          },
          "execution_count": 4
        }
      ]
    },
    {
      "cell_type": "code",
      "metadata": {
        "id": "BFYVRrWRpFvS"
      },
      "source": [
        "x = dados[['horas_esperadas', 'preco']]\n",
        "y = dados['finalizado']"
      ],
      "execution_count": 29,
      "outputs": []
    },
    {
      "cell_type": "code",
      "metadata": {
        "id": "WZ5jK9-tpJCI"
      },
      "source": [
        "from sklearn.model_selection import train_test_split\n",
        "from sklearn.svm import LinearSVC\n",
        "from sklearn.metrics import accuracy_score\n",
        "\n",
        "SEED = 20\n",
        "\n",
        "treino_x, teste_x, treino_y, teste_y = train_test_split(x, y,\n",
        "                                                         random_state = SEED, test_size = 0.25,\n",
        "                                                         stratify = y)"
      ],
      "execution_count": 30,
      "outputs": []
    },
    {
      "cell_type": "code",
      "metadata": {
        "colab": {
          "base_uri": "https://localhost:8080/"
        },
        "id": "jlAA1usdohsW",
        "outputId": "0c45889e-e866-4764-f089-ced5b405c2b6"
      },
      "source": [
        "print(\"Treinaremos com %d elementos e testaremos com %d elementos\" % (len(treino_x), len(teste_x)))\n",
        "\n",
        "modelo = LinearSVC(random_state=SEED)\n",
        "modelo.fit(treino_x, treino_y)\n",
        "previsoes = modelo.predict(teste_x)\n",
        "\n",
        "acuracia = accuracy_score(teste_y, previsoes) * 100\n",
        "print(\"A acurácia foi %.2f%%\" % acuracia)"
      ],
      "execution_count": 31,
      "outputs": [
        {
          "output_type": "stream",
          "text": [
            "Treinaremos com 1617 elementos e testaremos com 540 elementos\n",
            "A acurácia foi 47.41%\n"
          ],
          "name": "stdout"
        },
        {
          "output_type": "stream",
          "text": [
            "/usr/local/lib/python3.6/dist-packages/sklearn/svm/_base.py:947: ConvergenceWarning: Liblinear failed to converge, increase the number of iterations.\n",
            "  \"the number of iterations.\", ConvergenceWarning)\n"
          ],
          "name": "stderr"
        }
      ]
    },
    {
      "cell_type": "markdown",
      "metadata": {
        "id": "NK8M6y7Kou_Z"
      },
      "source": [
        "Treinaremos com 1617 elementos e testaremos com 540 elementos\n",
        "\n",
        "A acurácia foi 53.33%\n",
        "\n",
        "Para não termos de passar todas as vezes o argumento random_state, aprenderemos um outro recurso do Sklearn. As bibliotecas dessa natureza usam o random_state com o valor None por padrão. Analisando a documentação de muitas dessas bibliotecas, aprenderemos que, quando o valor de random_state é None, o np.random do Numpy é utilizado.\n",
        "\n",
        "Portanto, se configurarmos np.random.seed() como SEED, não precisamos mais passa-lo para train_test_split() ou para LinearSVC(), pois estamos utilizando o Numpy de forma fixa.\n",
        "\n",
        "Ao executarmos o código, a acurácia se fixará em 64.44%, e nossa curva de decisão será, em relação a nossa baseline, 20% melhor. Porém, isso aconteceu simplesmente por sorte."
      ]
    },
    {
      "cell_type": "code",
      "metadata": {
        "colab": {
          "base_uri": "https://localhost:8080/"
        },
        "id": "FqCulTv8p4N7",
        "outputId": "6ab566dc-caca-4c82-929d-402fc7e9c2fc"
      },
      "source": [
        "import numpy as np\n",
        "previsoes_do_guilherme = np.ones(540)\n",
        "acuracia = accuracy_score(teste_y, previsoes_do_guilherme) * 100\n",
        "print(\"A acurácia do Guilherme foi %.2f%%\" % acuracia)"
      ],
      "execution_count": 25,
      "outputs": [
        {
          "output_type": "stream",
          "text": [
            "A acurácia do Guilherme foi 52.59%\n"
          ],
          "name": "stdout"
        }
      ]
    },
    {
      "cell_type": "code",
      "metadata": {
        "colab": {
          "base_uri": "https://localhost:8080/"
        },
        "id": "E8PoDNl_pfMN",
        "outputId": "0ca4c5aa-0a73-4e17-b33d-c226ffc3ed35"
      },
      "source": [
        "SEED = 5\n",
        "np.random.seed(SEED)\n",
        "treino_x, teste_x, treino_y, teste_y = train_test_split(x, y, test_size = 0.25,\n",
        "                                                         stratify = y)\n",
        "print(\"Treinaremos com %d elementos e testaremos com %d elementos\" % (len(treino_x), len(teste_x)))\n",
        "\n",
        "modelo = LinearSVC()\n",
        "modelo.fit(treino_x, treino_y)\n",
        "previsoes = modelo.predict(teste_x)\n",
        "\n",
        "acuracia = accuracy_score(teste_y, previsoes) * 100\n",
        "print(\"A acurácia foi %.2f%%\" % acuracia)"
      ],
      "execution_count": 28,
      "outputs": [
        {
          "output_type": "stream",
          "text": [
            "Treinaremos com 1617 elementos e testaremos com 540 elementos\n",
            "A acurácia foi 64.44%\n"
          ],
          "name": "stdout"
        },
        {
          "output_type": "stream",
          "text": [
            "/usr/local/lib/python3.6/dist-packages/sklearn/svm/_base.py:947: ConvergenceWarning: Liblinear failed to converge, increase the number of iterations.\n",
            "  \"the number of iterations.\", ConvergenceWarning)\n"
          ],
          "name": "stderr"
        }
      ]
    },
    {
      "cell_type": "markdown",
      "metadata": {
        "id": "dc88-JrPsF_w"
      },
      "source": [
        "Quando a biblioteca utiliza o Numpy como parâmetro do random_state, podemos simplesmente passar o SEED com np.random.seed(). Porém, se estivermos utilizando outras maneiras de gerar números aleatórios, teremos que tomar algumas precauções.\n",
        "\n",
        "No módulo sklearn.smv, teremos diversas variações de algoritmos baseados em uma única ideia: Suport Vector Machines, isto é, SVM. Estávamos utilizando anteriormente o LinearSVC, ou Suport Vector Classification, que é baseado em relacionamentos lineares.\n",
        "\n",
        "Queremos utilizar um algoritmo mais independente e que encontre relacionamentos diferentes, portanto tentaremos o SVC. Um dos seus parâmetros, inclusive, é o random_state, como podemos verificar na documentação (https://scikit-learn.org/stable/modules/generated/sklearn.svm.SVC.html)."
      ]
    },
    {
      "cell_type": "code",
      "metadata": {
        "colab": {
          "base_uri": "https://localhost:8080/"
        },
        "id": "2x1sFERvsIJK",
        "outputId": "82e0f115-7a8d-4641-8bbd-eec76576f953"
      },
      "source": [
        "from sklearn.svm import SVC\n",
        "\n",
        "SEED = 5\n",
        "np.random.seed(SEED)\n",
        "treino_x, teste_x, treino_y, teste_y = train_test_split(x, y, test_size = 0.25,\n",
        "                                                         stratify = y)\n",
        "print(\"Treinaremos com %d elementos e testaremos com %d elementos\" % (len(treino_x), len(teste_x)))\n",
        "\n",
        "modelo = SVC()\n",
        "modelo.fit(treino_x, treino_y)\n",
        "previsoes = modelo.predict(teste_x)\n",
        "\n",
        "acuracia = accuracy_score(teste_y, previsoes) * 100\n",
        "print(\"A acurácia foi %.2f%%\" % acuracia)"
      ],
      "execution_count": 27,
      "outputs": [
        {
          "output_type": "stream",
          "text": [
            "Treinaremos com 1617 elementos e testaremos com 540 elementos\n",
            "A acurácia foi 55.19%\n"
          ],
          "name": "stdout"
        }
      ]
    },
    {
      "cell_type": "markdown",
      "metadata": {
        "id": "leg30ghTsbRj"
      },
      "source": [
        "Rodando esse código, teremos:\n",
        "\n",
        "Treinaremos com 1617 elementos e testaremos com 540 elementos\n",
        "\n",
        "A acurácia foi 59.07%\n",
        "\n",
        "Ou seja, um resultado de 59.07%, inferior ao que obtivemos usando LinearSVC. O que pode ter acontecido? Vamos descobrir qual tipo de relacionamento foi realizado pelo SVC. Plotaremos novamente, aproveitando a estrutura de código que já utilizamos para formação de pontos e assim por diante:"
      ]
    },
    {
      "cell_type": "code",
      "metadata": {
        "colab": {
          "base_uri": "https://localhost:8080/",
          "height": 282
        },
        "id": "U8WXLr_wsemC",
        "outputId": "ea568a5b-5a06-4cd4-be60-e5dacc97a18d"
      },
      "source": [
        "x_min = teste_x.horas_esperadas.min()\n",
        "x_max = teste_x.horas_esperadas.max()\n",
        "y_min = teste_x.preco.min()\n",
        "y_max = teste_x.preco.max()\n",
        "\n",
        "pixels = 100\n",
        "eixo_x = np.arange(x_min, x_max, (x_max - x_min) / pixels)\n",
        "eixo_y = np.arange(y_min, y_max, (y_max - y_min) / pixels)\n",
        "\n",
        "xx, yy = np.meshgrid(eixo_x, eixo_y)\n",
        "pontos = np.c_[xx.ravel(), yy.ravel()]\n",
        "\n",
        "Z = modelo.predict(pontos)\n",
        "Z = Z.reshape(xx.shape)\n",
        "\n",
        "import matplotlib.pyplot as plt\n",
        "\n",
        "plt.contourf(xx, yy, Z, alpha=0.3)\n",
        "plt.scatter(teste_x.horas_esperadas, teste_x.preco, c=teste_y, s=1)\n",
        "\n",
        "# DECISION BOUNDARY"
      ],
      "execution_count": 32,
      "outputs": [
        {
          "output_type": "execute_result",
          "data": {
            "text/plain": [
              "<matplotlib.collections.PathCollection at 0x7ffbb3864898>"
            ]
          },
          "metadata": {
            "tags": []
          },
          "execution_count": 32
        },
        {
          "output_type": "display_data",
          "data": {
            "image/png": "[encoded data removed]",
            "text/plain": [
              "<Figure size 432x288 with 1 Axes>"
            ]
          },
          "metadata": {
            "tags": [],
            "needs_background": "light"
          }
        }
      ]
    },
    {
      "cell_type": "markdown",
      "metadata": {
        "id": "4yFEnyQosbT5"
      },
      "source": [
        "Analisando a plotagem, percebemos que de fato foram realizados relacionamentos não lineares. Há pequenos agrupamentos de cor diferente que representam as previsões do algoritmo para projetos que terão valor 1, e o restante será 0. Não estamos tendo um palpite muito inteligente.\n",
        "\n",
        "Isso o ocorre devido a discrepância entre os eixos: em X, teremos valores de 0 a 100, e em Y de 0 a 30000. Esses algoritmos são muito suscetíveis a escala, e darão menos valor para variações menores, como é o caso de X."
      ]
    },
    {
      "cell_type": "markdown",
      "metadata": {
        "id": "7A0IwsqRsjJc"
      },
      "source": [
        ""
      ]
    },
    {
      "cell_type": "markdown",
      "metadata": {
        "id": "HYDsuf23sjMC"
      },
      "source": [
        "Escalas distintas em features causam um desbalanço no algoritmo. Uma alternativa para solucionarmos esse problema é reescalarmos todo o nosso projeto para uma faixa similar. Faremos isso utilizando o escalador padrão do Sklearn, o stadardscaler, que é uma fase de pré-processamento e padronização de valores.\n",
        "\n",
        "Primeiramente importaremos este recurso (from sklearn.preprocessing import StandardScaler), e então faremos suaves alterações no código que já utilizamos anteriormente.\n",
        "\n",
        "Queremos elaborar uma nova escala a partir dos valores de X para treino. Para tanto, criaremos um StandardScaler(), que será atribuído à uma variável scaler, e treinaremos esse processo baseado em treino_x. Em seguida, transformaremos treino_x em um novo treino_x que já está na nova escala. Em seguida, repetiremos o processo para teste_x.\n",
        "\n",
        "Desse modo, todas as features serão utilizadas para treinar o processo de escala, e por fim, atualizadas de acordo com as novas medidas. Já sabemos que não é uma boa prática sobrescrever variáveis, pois podemos nos perder em meio às nomeclaturas. Portanto, renomearemos os dados \"crus\" (os originais) adicionando o termo raw - ou seja, raw_treino_x e raw_teste_x.\n",
        "\n"
      ]
    },
    {
      "cell_type": "code",
      "metadata": {
        "colab": {
          "base_uri": "https://localhost:8080/"
        },
        "id": "t0RQmXJXsk4q",
        "outputId": "4ba38533-5a7f-446d-b2b8-561e1eba217e"
      },
      "source": [
        "from sklearn.preprocessing import StandardScaler\n",
        "from sklearn.model_selection import train_test_split\n",
        "from sklearn.svm import SVC\n",
        "from sklearn.metrics import accuracy_score\n",
        "\n",
        "SEED = 5\n",
        "np.random.seed(SEED)\n",
        "raw_treino_x, teste_x, treino_y, teste_y = train_test_split(x, y, test_size = 0.25,\n",
        "                                                         stratify = y)\n",
        "print(\"Treinaremos com %d elementos e testaremos com %d elementos\" % (len(treino_x), len(teste_x)))\n",
        "\n",
        "scaler = StandardScaler()\n",
        "scaler.fit(raw_treino_x)\n",
        "treino_x = scaler.transform(raw_treino_x)\n",
        "teste_x = scaler.transform(raw_teste_x)\n",
        "\n",
        "modelo = SVC()\n",
        "modelo.fit(treino_x, treino_y)\n",
        "previsoes = modelo.predict(teste_x)\n",
        "\n",
        "acuracia = accuracy_score(teste_y, previsoes) * 100\n",
        "print(\"A acurácia foi %.2f%%\" % acuracia)"
      ],
      "execution_count": 45,
      "outputs": [
        {
          "output_type": "stream",
          "text": [
            "Treinaremos com 1617 elementos e testaremos com 540 elementos\n",
            "A acurácia foi 66.85%\n"
          ],
          "name": "stdout"
        }
      ]
    },
    {
      "cell_type": "markdown",
      "metadata": {
        "id": "Wna4Ikovsl_b"
      },
      "source": [
        "Ao executarmos esse código, estaremos treinando o StandardScaler() com as nossas faixas de dados originais. Em seguida, esses conjuntos são reescalados, gerando um novo treino_x e um novo teste_x. Como resultado, nosso algoritmo retornará:\n",
        "\n",
        "Treinaremos com 1617 elementos e testaremos com 540 elementos\n",
        "\n",
        "A acurácia foi 66.85%\n",
        "\n",
        "Tivemos uma taxa de acerto ainda melhor que a do LinearSVC(), mas ainda precisamos visualizar isso em um gráfico:"
      ]
    },
    {
      "cell_type": "code",
      "metadata": {
        "colab": {
          "base_uri": "https://localhost:8080/",
          "height": 232
        },
        "id": "eljQeAH7srGu",
        "outputId": "55ab714e-8a25-4c5d-ca23-ea76d7d430fb"
      },
      "source": [
        "x_min = teste_x.horas_esperadas.min()\n",
        "x_max = teste_x.horas_esperadas.max()\n",
        "y_min = teste_x.preco.min()\n",
        "y_max = teste_x.preco.max()\n",
        "\n",
        "pixels = 100\n",
        "eixo_x = np.arange(x_min, x_max, (x_max - x_min) / pixels)\n",
        "eixo_y = np.arange(y_min, y_max, (y_max - y_min) / pixels)\n",
        "\n",
        "xx, yy = np.meshgrid(eixo_x, eixo_y)\n",
        "pontos = np.c_[xx.ravel(), yy.ravel()]\n",
        "\n",
        "Z = modelo.predict(pontos)\n",
        "Z = Z.reshape(xx.shape)\n",
        "\n",
        "import matplotlib.pyplot as plt\n",
        "\n",
        "plt.contourf(xx, yy, Z, alpha=0.3)\n",
        "plt.scatter(teste_x.horas_esperadas, teste_x.preco, c=teste_y, s=1)\n",
        "\n",
        "# DECISION BOUNDARY"
      ],
      "execution_count": 46,
      "outputs": [
        {
          "output_type": "error",
          "ename": "AttributeError",
          "evalue": "ignored",
          "traceback": [
            "\u001b[0;31m---------------------------------------------------------------------------\u001b[0m",
            "\u001b[0;31mAttributeError\u001b[0m                            Traceback (most recent call last)",
            "\u001b[0;32m<ipython-input-46-8ea04a275ebb>\u001b[0m in \u001b[0;36m<module>\u001b[0;34m()\u001b[0m\n\u001b[0;32m----> 1\u001b[0;31m \u001b[0mx_min\u001b[0m \u001b[0;34m=\u001b[0m \u001b[0mteste_x\u001b[0m\u001b[0;34m.\u001b[0m\u001b[0mhoras_esperadas\u001b[0m\u001b[0;34m.\u001b[0m\u001b[0mmin\u001b[0m\u001b[0;34m(\u001b[0m\u001b[0;34m)\u001b[0m\u001b[0;34m\u001b[0m\u001b[0;34m\u001b[0m\u001b[0m\n\u001b[0m\u001b[1;32m      2\u001b[0m \u001b[0mx_max\u001b[0m \u001b[0;34m=\u001b[0m \u001b[0mteste_x\u001b[0m\u001b[0;34m.\u001b[0m\u001b[0mhoras_esperadas\u001b[0m\u001b[0;34m.\u001b[0m\u001b[0mmax\u001b[0m\u001b[0;34m(\u001b[0m\u001b[0;34m)\u001b[0m\u001b[0;34m\u001b[0m\u001b[0;34m\u001b[0m\u001b[0m\n\u001b[1;32m      3\u001b[0m \u001b[0my_min\u001b[0m \u001b[0;34m=\u001b[0m \u001b[0mteste_x\u001b[0m\u001b[0;34m.\u001b[0m\u001b[0mpreco\u001b[0m\u001b[0;34m.\u001b[0m\u001b[0mmin\u001b[0m\u001b[0;34m(\u001b[0m\u001b[0;34m)\u001b[0m\u001b[0;34m\u001b[0m\u001b[0;34m\u001b[0m\u001b[0m\n\u001b[1;32m      4\u001b[0m \u001b[0my_max\u001b[0m \u001b[0;34m=\u001b[0m \u001b[0mteste_x\u001b[0m\u001b[0;34m.\u001b[0m\u001b[0mpreco\u001b[0m\u001b[0;34m.\u001b[0m\u001b[0mmax\u001b[0m\u001b[0;34m(\u001b[0m\u001b[0;34m)\u001b[0m\u001b[0;34m\u001b[0m\u001b[0;34m\u001b[0m\u001b[0m\n\u001b[1;32m      5\u001b[0m \u001b[0;34m\u001b[0m\u001b[0m\n",
            "\u001b[0;31mAttributeError\u001b[0m: 'numpy.ndarray' object has no attribute 'horas_esperadas'"
          ]
        }
      ]
    },
    {
      "cell_type": "markdown",
      "metadata": {
        "id": "0qBXHLL5stjx"
      },
      "source": [
        "Ao tentarmos executá-lo, teremos a seguinte mensagem de erro:\n",
        "\n",
        "AttributeError: 'numpy.ndarray' object has no attribute 'horas_esperadas'\n",
        "\n",
        "Isso aconteceu porque nossas novas variáveis teste_x e treino_x são arrays de arrays (que, na nova escala, só possuem dois valores).\n",
        "\n"
      ]
    },
    {
      "cell_type": "code",
      "metadata": {
        "colab": {
          "base_uri": "https://localhost:8080/"
        },
        "id": "-V_QpQUisvPX",
        "outputId": "8c068485-ed14-462f-e5b0-50492a35197e"
      },
      "source": [
        "treino_x"
      ],
      "execution_count": 47,
      "outputs": [
        {
          "output_type": "execute_result",
          "data": {
            "text/plain": [
              "array([[-1.20810685, -0.58850785],\n",
              "       [-0.25992095, -0.48069545],\n",
              "       [ 1.46086087,  0.13548927],\n",
              "       ...,\n",
              "       [-0.57598292, -0.58492075],\n",
              "       [ 1.21503489,  0.45294796],\n",
              "       [ 1.1799169 ,  1.18670998]])"
            ]
          },
          "metadata": {
            "tags": []
          },
          "execution_count": 47
        }
      ]
    },
    {
      "cell_type": "markdown",
      "metadata": {
        "id": "wo9WejqutBCu"
      },
      "source": [
        ""
      ]
    },
    {
      "cell_type": "markdown",
      "metadata": {
        "id": "_ymxWg_otBFY"
      },
      "source": [
        "Antes, essas variáveis (agora representadas por raw_teste_x e raw_treino_x) representavam dataframes do Pandas e continham as informações horas_esperadas e preco, que não funcionam mais para nossa plotagem.\n",
        "\n",
        "Para obtermos a primeira coluna desse array do Numpy (equivalente a horas_esperadas), usaremos teste_x[:,0] - ou seja, todas as linhas e a coluna 0 do array teste_x. Como esse será nosso eixo X, atribuiremos o resultado a uma variável data_x.\n",
        "\n",
        "Repetiremos o processo para a criação de data_y, pegando todas as linhas da coluna 1 desse array:"
      ]
    },
    {
      "cell_type": "code",
      "metadata": {
        "id": "CSePqZ9jsvQy"
      },
      "source": [
        "data_x = teste_x[:,0]\n",
        "data_y = teste_x[:,1]"
      ],
      "execution_count": 48,
      "outputs": []
    },
    {
      "cell_type": "markdown",
      "metadata": {
        "id": "9vg3na_UtHh8"
      },
      "source": [
        "Em seguida, alteraremos o código de plotagem de acordo com as novas nomeações:"
      ]
    },
    {
      "cell_type": "code",
      "metadata": {
        "colab": {
          "base_uri": "https://localhost:8080/",
          "height": 282
        },
        "id": "XyAh8UE2tI6L",
        "outputId": "1df63a99-9417-457d-dc76-608de07c0fb9"
      },
      "source": [
        "data_x = teste_x[:,0]\n",
        "data_y = teste_x[:,1]\n",
        "\n",
        "x_min = data_x.min()\n",
        "x_max = data_x.max()\n",
        "y_min = data_y.min()\n",
        "y_max = data_y.max()\n",
        "\n",
        "pixels = 100\n",
        "eixo_x = np.arange(x_min, x_max, (x_max - x_min) / pixels)\n",
        "eixo_y = np.arange(y_min, y_max, (y_max - y_min) / pixels)\n",
        "\n",
        "xx, yy = np.meshgrid(eixo_x, eixo_y)\n",
        "pontos = np.c_[xx.ravel(), yy.ravel()]\n",
        "\n",
        "Z = modelo.predict(pontos)\n",
        "Z = Z.reshape(xx.shape)\n",
        "\n",
        "import matplotlib.pyplot as plt\n",
        "\n",
        "plt.contourf(xx, yy, Z, alpha=0.3)\n",
        "plt.scatter(data_x, data_y, c=teste_y, s=1)"
      ],
      "execution_count": 49,
      "outputs": [
        {
          "output_type": "execute_result",
          "data": {
            "text/plain": [
              "<matplotlib.collections.PathCollection at 0x7ffbb0f2a198>"
            ]
          },
          "metadata": {
            "tags": []
          },
          "execution_count": 49
        },
        {
          "output_type": "display_data",
          "data": {
            "image/png": "[encoded data removed]",
            "text/plain": [
              "<Figure size 432x288 with 1 Axes>"
            ]
          },
          "metadata": {
            "tags": [],
            "needs_background": "light"
          }
        }
      ]
    },
    {
      "cell_type": "markdown",
      "metadata": {
        "id": "nfW4jPiqtLtz"
      },
      "source": [
        "Por mais que LinearSVC tenha tido uma taxa razoável de 64.44%, a linha de decisão na plotagem foi horrível. Na prática, utilizar o SVC parece ser uma decisão melhor: temos uma curva de decisão bem marcada e o estimador possui uma taxa de acerto um pouco maior, de 66.85%.\n",
        "\n",
        "Aprendemos que existem diversos estimadores, os dois que utilizamos até agora são baseados em um algoritmo chamado Suport Vector Machine. Um deles possui uma restrição e consegue apenas estabelecer relacionamentos lineares, e o outro é capaz de elaborar curvas e atinge uma taxa de acurácia mais interessante no caso do nosso projeto.\n",
        "\n",
        "Por fim, você ainda pode explorar o SKLearn e encontrar outros estimadores para trabalhar, dentro e fora do SVM. A seguir, começaremos a estudar mais um desses estimadores."
      ]
    },
    {
      "cell_type": "markdown",
      "metadata": {
        "id": "thAq6OtpwWZQ"
      },
      "source": [
        "**Nessa aula aprendemos a:**\n",
        "\n",
        "* Utilizar o módulo Support Vector Machine;\n",
        "* Gerar valores randômicos com o módulo SVC;\n",
        "* Utilizar o módulo Standard Scale.\n"
      ]
    }
  ]
}